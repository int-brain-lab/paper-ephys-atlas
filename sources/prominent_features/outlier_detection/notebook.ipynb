{
 "cells": [
  {
   "cell_type": "markdown",
   "id": "23424e3f-965f-43e0-a2cf-e2dc39b82cc2",
   "metadata": {
    "jp-MarkdownHeadingCollapsed": true
   },
   "source": [
    "## Imports"
   ]
  },
  {
   "cell_type": "code",
   "execution_count": null,
   "id": "930348cd-1eba-4702-8920-f32e63e49015",
   "metadata": {},
   "outputs": [],
   "source": [
    "from pathlib import Path\n",
    "from copy import deepcopy\n",
    "\n",
    "import joblib\n",
    "import numpy as np\n",
    "import matplotlib.pyplot as plt\n",
    "import matplotlib.cm as cm\n",
    "from matplotlib.backends.backend_pdf import PdfPages\n",
    "import seaborn as sns\n",
    "import tqdm\n",
    "\n",
    "from ephys_atlas.plots import figure_features_chspace, plot_probe_rect, plot_probe_rect2\n",
    "from ephys_atlas.encoding import voltage_features_set\n",
    "from ephys_atlas.data import load_voltage_features, prepare_df_voltage"
   ]
  },
  {
   "cell_type": "code",
   "execution_count": 2,
   "id": "723f6d4f-c9b5-473f-8ba8-a8246d3683e8",
   "metadata": {},
   "outputs": [],
   "source": [
    "plt.rcParams.update({\n",
    "    'font.size': 12,\n",
    "    'font.family': 'DejaVu Sans',\n",
    "    #'axes.labelweight': 'bold',\n",
    "    'axes.titlesize': 14,\n",
    "    #'axes.titleweight': 'bold',\n",
    "    'xtick.labelsize': 11,\n",
    "    'ytick.labelsize': 11,\n",
    "    'legend.fontsize': 12\n",
    "})"
   ]
  },
  {
   "cell_type": "markdown",
   "id": "105a1c35-820c-4d28-91dc-58484e078a31",
   "metadata": {
    "jp-MarkdownHeadingCollapsed": true
   },
   "source": [
    "## Constants"
   ]
  },
  {
   "cell_type": "code",
   "execution_count": 3,
   "id": "a015f68e-2e5a-47e2-91d0-e272da69178d",
   "metadata": {},
   "outputs": [],
   "source": [
    "QUANTILES = [0.01, 0.1, 0.9, 0.99]\n",
    "BINS = 50"
   ]
  },
  {
   "cell_type": "markdown",
   "id": "1fe6da4c-92a9-4165-9518-6aab3c5a9d5e",
   "metadata": {
    "jp-MarkdownHeadingCollapsed": true
   },
   "source": [
    "## Data loading"
   ]
  },
  {
   "cell_type": "code",
   "execution_count": 4,
   "id": "534f92ba-b52e-4b07-ac81-5e7ac7961ab1",
   "metadata": {},
   "outputs": [],
   "source": [
    "local_data_path = Path('/home/cyrille/GIT/IBL/paper-ephys-atlas/data')\n",
    "\n",
    "features = voltage_features_set()\n",
    "mapping = 'Allen'\n",
    "label = 'latest'"
   ]
  },
  {
   "cell_type": "code",
   "execution_count": 5,
   "id": "6aee6509-a785-4fb5-9f3a-4cea8e9ef393",
   "metadata": {},
   "outputs": [
    {
     "name": "stdout",
     "output_type": "stream",
     "text": [
      "\u001b[36m2025-04-14 14:14:42 INFO     data.py:399  Loaded 384215 channels\u001b[0m\n",
      "\u001b[36m2025-04-14 14:14:42 INFO     data.py:401  Remains 384215 channels after NaNs filtering\u001b[0m\n"
     ]
    }
   ],
   "source": [
    "df_voltage, df_clusters, df_channels, df_probes = \\\n",
    "    load_voltage_features(local_data_path.joinpath(label), mapping=mapping)"
   ]
  },
  {
   "cell_type": "code",
   "execution_count": 6,
   "id": "0413cd07-87e7-477c-a65e-73e618414258",
   "metadata": {},
   "outputs": [],
   "source": [
    "df_voltage = prepare_df_voltage(df_voltage, df_channels)"
   ]
  },
  {
   "cell_type": "markdown",
   "id": "9b09dbe4-6831-4961-a0bc-b7612f094519",
   "metadata": {
    "jp-MarkdownHeadingCollapsed": true
   },
   "source": [
    "## Regions"
   ]
  },
  {
   "cell_type": "code",
   "execution_count": 7,
   "id": "b7b8ec63-6998-4b9b-bd6b-30cd392078d5",
   "metadata": {},
   "outputs": [],
   "source": [
    "from iblatlas.atlas import BrainRegions\n",
    "br = BrainRegions()"
   ]
  },
  {
   "cell_type": "code",
   "execution_count": 8,
   "id": "d8a7b971-c137-403a-8d57-08d1c3d5ed5c",
   "metadata": {},
   "outputs": [],
   "source": [
    "beryl_ids = df_voltage.beryl_id.unique()\n",
    "acronyms = br.id2acronym(beryl_ids)\n",
    "idx = np.argsort(acronyms)\n",
    "acronyms = acronyms[idx]\n",
    "beryl_ids = beryl_ids[idx]"
   ]
  },
  {
   "cell_type": "markdown",
   "id": "04464efb-d551-4349-ad1b-8a9112b915af",
   "metadata": {
    "jp-MarkdownHeadingCollapsed": true
   },
   "source": [
    "## Features"
   ]
  },
  {
   "cell_type": "code",
   "execution_count": 9,
   "id": "dc5b55c6-d530-4885-ac5a-7d972c97965b",
   "metadata": {},
   "outputs": [],
   "source": [
    "pids = df_voltage.index.get_level_values(0).unique()"
   ]
  },
  {
   "cell_type": "code",
   "execution_count": 10,
   "id": "793c7d7a-1a48-4506-a371-ff3c8a158dbc",
   "metadata": {},
   "outputs": [
    {
     "data": {
      "text/html": [
       "<div>\n",
       "<style scoped>\n",
       "    .dataframe tbody tr th:only-of-type {\n",
       "        vertical-align: middle;\n",
       "    }\n",
       "\n",
       "    .dataframe tbody tr th {\n",
       "        vertical-align: top;\n",
       "    }\n",
       "\n",
       "    .dataframe thead th {\n",
       "        text-align: right;\n",
       "    }\n",
       "</style>\n",
       "<table border=\"1\" class=\"dataframe\">\n",
       "  <thead>\n",
       "    <tr style=\"text-align: right;\">\n",
       "      <th></th>\n",
       "      <th></th>\n",
       "      <th>rms_ap</th>\n",
       "      <th>cor_ratio</th>\n",
       "      <th>rms_lf</th>\n",
       "      <th>psd_delta</th>\n",
       "      <th>psd_theta</th>\n",
       "      <th>psd_alpha</th>\n",
       "      <th>psd_beta</th>\n",
       "      <th>psd_gamma</th>\n",
       "      <th>psd_lfp</th>\n",
       "      <th>rms_lf_csd</th>\n",
       "      <th>...</th>\n",
       "      <th>x_target_y</th>\n",
       "      <th>y_target_y</th>\n",
       "      <th>z_target_y</th>\n",
       "      <th>atlas_id_target_y</th>\n",
       "      <th>cosmos_id</th>\n",
       "      <th>beryl_id</th>\n",
       "      <th>spike_count_log</th>\n",
       "      <th>peak_to_trough_ratio</th>\n",
       "      <th>peak_to_trough_ratio_log</th>\n",
       "      <th>peak_to_trough_duration</th>\n",
       "    </tr>\n",
       "    <tr>\n",
       "      <th>pid</th>\n",
       "      <th>channel</th>\n",
       "      <th></th>\n",
       "      <th></th>\n",
       "      <th></th>\n",
       "      <th></th>\n",
       "      <th></th>\n",
       "      <th></th>\n",
       "      <th></th>\n",
       "      <th></th>\n",
       "      <th></th>\n",
       "      <th></th>\n",
       "      <th></th>\n",
       "      <th></th>\n",
       "      <th></th>\n",
       "      <th></th>\n",
       "      <th></th>\n",
       "      <th></th>\n",
       "      <th></th>\n",
       "      <th></th>\n",
       "      <th></th>\n",
       "      <th></th>\n",
       "      <th></th>\n",
       "    </tr>\n",
       "  </thead>\n",
       "  <tbody>\n",
       "    <tr>\n",
       "      <th rowspan=\"5\" valign=\"top\">00a824c0-e060-495f-9ebc-79c82fef4c67</th>\n",
       "      <th>0</th>\n",
       "      <td>-93.322170</td>\n",
       "      <td>0.754190</td>\n",
       "      <td>-90.644629</td>\n",
       "      <td>-101.787283</td>\n",
       "      <td>-104.159496</td>\n",
       "      <td>-105.973834</td>\n",
       "      <td>-112.510019</td>\n",
       "      <td>-115.888470</td>\n",
       "      <td>-112.043098</td>\n",
       "      <td>5.301135e-09</td>\n",
       "      <td>...</td>\n",
       "      <td>-0.000352</td>\n",
       "      <td>-0.002844</td>\n",
       "      <td>-0.003299</td>\n",
       "      <td>795</td>\n",
       "      <td>313</td>\n",
       "      <td>128</td>\n",
       "      <td>1.518514</td>\n",
       "      <td>2.563161</td>\n",
       "      <td>0.941241</td>\n",
       "      <td>0.000324</td>\n",
       "    </tr>\n",
       "    <tr>\n",
       "      <th>1</th>\n",
       "      <td>-91.982491</td>\n",
       "      <td>0.411007</td>\n",
       "      <td>-90.323467</td>\n",
       "      <td>-101.573927</td>\n",
       "      <td>-104.459178</td>\n",
       "      <td>-106.397486</td>\n",
       "      <td>-112.693430</td>\n",
       "      <td>-115.906262</td>\n",
       "      <td>-111.789864</td>\n",
       "      <td>4.167098e-09</td>\n",
       "      <td>...</td>\n",
       "      <td>-0.000352</td>\n",
       "      <td>-0.002844</td>\n",
       "      <td>-0.003299</td>\n",
       "      <td>795</td>\n",
       "      <td>313</td>\n",
       "      <td>128</td>\n",
       "      <td>2.171726</td>\n",
       "      <td>2.780851</td>\n",
       "      <td>1.022757</td>\n",
       "      <td>0.000290</td>\n",
       "    </tr>\n",
       "    <tr>\n",
       "      <th>2</th>\n",
       "      <td>-91.566196</td>\n",
       "      <td>0.451987</td>\n",
       "      <td>-90.232606</td>\n",
       "      <td>-101.712161</td>\n",
       "      <td>-104.223009</td>\n",
       "      <td>-106.204256</td>\n",
       "      <td>-112.325320</td>\n",
       "      <td>-115.555288</td>\n",
       "      <td>-111.863034</td>\n",
       "      <td>4.423924e-09</td>\n",
       "      <td>...</td>\n",
       "      <td>-0.000357</td>\n",
       "      <td>-0.002844</td>\n",
       "      <td>-0.003279</td>\n",
       "      <td>795</td>\n",
       "      <td>313</td>\n",
       "      <td>128</td>\n",
       "      <td>1.744293</td>\n",
       "      <td>2.581176</td>\n",
       "      <td>0.948245</td>\n",
       "      <td>0.000330</td>\n",
       "    </tr>\n",
       "    <tr>\n",
       "      <th>3</th>\n",
       "      <td>-90.669213</td>\n",
       "      <td>0.469155</td>\n",
       "      <td>-87.667768</td>\n",
       "      <td>-97.225263</td>\n",
       "      <td>-102.353363</td>\n",
       "      <td>-104.408635</td>\n",
       "      <td>-110.429818</td>\n",
       "      <td>-114.125412</td>\n",
       "      <td>-109.164580</td>\n",
       "      <td>6.094140e-09</td>\n",
       "      <td>...</td>\n",
       "      <td>-0.000357</td>\n",
       "      <td>-0.002844</td>\n",
       "      <td>-0.003279</td>\n",
       "      <td>795</td>\n",
       "      <td>313</td>\n",
       "      <td>128</td>\n",
       "      <td>2.000000</td>\n",
       "      <td>2.500806</td>\n",
       "      <td>0.916613</td>\n",
       "      <td>0.000319</td>\n",
       "    </tr>\n",
       "    <tr>\n",
       "      <th>4</th>\n",
       "      <td>-91.297692</td>\n",
       "      <td>0.338838</td>\n",
       "      <td>-89.531428</td>\n",
       "      <td>-99.494953</td>\n",
       "      <td>-104.781015</td>\n",
       "      <td>-106.740744</td>\n",
       "      <td>-112.371962</td>\n",
       "      <td>-115.086073</td>\n",
       "      <td>-111.196320</td>\n",
       "      <td>5.301135e-09</td>\n",
       "      <td>...</td>\n",
       "      <td>-0.000362</td>\n",
       "      <td>-0.002844</td>\n",
       "      <td>-0.003260</td>\n",
       "      <td>795</td>\n",
       "      <td>313</td>\n",
       "      <td>128</td>\n",
       "      <td>1.380211</td>\n",
       "      <td>2.317294</td>\n",
       "      <td>0.840400</td>\n",
       "      <td>0.000405</td>\n",
       "    </tr>\n",
       "    <tr>\n",
       "      <th>...</th>\n",
       "      <th>...</th>\n",
       "      <td>...</td>\n",
       "      <td>...</td>\n",
       "      <td>...</td>\n",
       "      <td>...</td>\n",
       "      <td>...</td>\n",
       "      <td>...</td>\n",
       "      <td>...</td>\n",
       "      <td>...</td>\n",
       "      <td>...</td>\n",
       "      <td>...</td>\n",
       "      <td>...</td>\n",
       "      <td>...</td>\n",
       "      <td>...</td>\n",
       "      <td>...</td>\n",
       "      <td>...</td>\n",
       "      <td>...</td>\n",
       "      <td>...</td>\n",
       "      <td>...</td>\n",
       "      <td>...</td>\n",
       "      <td>...</td>\n",
       "      <td>...</td>\n",
       "    </tr>\n",
       "    <tr>\n",
       "      <th rowspan=\"5\" valign=\"top\">ffb1b072-2de7-44a4-8115-5799b9866382</th>\n",
       "      <th>379</th>\n",
       "      <td>-88.665620</td>\n",
       "      <td>0.788894</td>\n",
       "      <td>-86.852443</td>\n",
       "      <td>-96.893853</td>\n",
       "      <td>-101.622061</td>\n",
       "      <td>-104.861699</td>\n",
       "      <td>-110.253048</td>\n",
       "      <td>-113.620168</td>\n",
       "      <td>-108.627753</td>\n",
       "      <td>2.246219e-09</td>\n",
       "      <td>...</td>\n",
       "      <td>0.001347</td>\n",
       "      <td>-0.006209</td>\n",
       "      <td>-0.003445</td>\n",
       "      <td>512</td>\n",
       "      <td>512</td>\n",
       "      <td>1025</td>\n",
       "      <td>1.550228</td>\n",
       "      <td>2.638062</td>\n",
       "      <td>0.970045</td>\n",
       "      <td>0.000368</td>\n",
       "    </tr>\n",
       "    <tr>\n",
       "      <th>380</th>\n",
       "      <td>-88.228718</td>\n",
       "      <td>0.766668</td>\n",
       "      <td>-86.533096</td>\n",
       "      <td>-96.756403</td>\n",
       "      <td>-101.407902</td>\n",
       "      <td>-104.768071</td>\n",
       "      <td>-110.041355</td>\n",
       "      <td>-113.450934</td>\n",
       "      <td>-108.257603</td>\n",
       "      <td>2.309263e-09</td>\n",
       "      <td>...</td>\n",
       "      <td>0.001350</td>\n",
       "      <td>-0.006209</td>\n",
       "      <td>-0.003426</td>\n",
       "      <td>512</td>\n",
       "      <td>512</td>\n",
       "      <td>1025</td>\n",
       "      <td>1.806180</td>\n",
       "      <td>3.538747</td>\n",
       "      <td>1.263773</td>\n",
       "      <td>0.000335</td>\n",
       "    </tr>\n",
       "    <tr>\n",
       "      <th>381</th>\n",
       "      <td>-88.432738</td>\n",
       "      <td>0.744558</td>\n",
       "      <td>-86.795452</td>\n",
       "      <td>-97.154323</td>\n",
       "      <td>-101.746486</td>\n",
       "      <td>-104.903059</td>\n",
       "      <td>-110.157332</td>\n",
       "      <td>-113.669899</td>\n",
       "      <td>-108.536956</td>\n",
       "      <td>2.250892e-09</td>\n",
       "      <td>...</td>\n",
       "      <td>0.001350</td>\n",
       "      <td>-0.006209</td>\n",
       "      <td>-0.003426</td>\n",
       "      <td>512</td>\n",
       "      <td>512</td>\n",
       "      <td>1025</td>\n",
       "      <td>1.954243</td>\n",
       "      <td>2.622191</td>\n",
       "      <td>0.964010</td>\n",
       "      <td>0.000365</td>\n",
       "    </tr>\n",
       "    <tr>\n",
       "      <th>382</th>\n",
       "      <td>-87.946953</td>\n",
       "      <td>0.696702</td>\n",
       "      <td>-86.330790</td>\n",
       "      <td>-96.286040</td>\n",
       "      <td>-101.416863</td>\n",
       "      <td>-104.826851</td>\n",
       "      <td>-109.906594</td>\n",
       "      <td>-113.303112</td>\n",
       "      <td>-108.127909</td>\n",
       "      <td>2.119030e-09</td>\n",
       "      <td>...</td>\n",
       "      <td>0.001353</td>\n",
       "      <td>-0.006209</td>\n",
       "      <td>-0.003406</td>\n",
       "      <td>512</td>\n",
       "      <td>512</td>\n",
       "      <td>1025</td>\n",
       "      <td>1.845098</td>\n",
       "      <td>2.704797</td>\n",
       "      <td>0.995027</td>\n",
       "      <td>0.000339</td>\n",
       "    </tr>\n",
       "    <tr>\n",
       "      <th>383</th>\n",
       "      <td>-88.010332</td>\n",
       "      <td>0.695542</td>\n",
       "      <td>-86.655819</td>\n",
       "      <td>-97.056808</td>\n",
       "      <td>-101.644340</td>\n",
       "      <td>-105.094410</td>\n",
       "      <td>-110.118663</td>\n",
       "      <td>-113.458966</td>\n",
       "      <td>-108.403703</td>\n",
       "      <td>2.246219e-09</td>\n",
       "      <td>...</td>\n",
       "      <td>0.001353</td>\n",
       "      <td>-0.006209</td>\n",
       "      <td>-0.003406</td>\n",
       "      <td>512</td>\n",
       "      <td>512</td>\n",
       "      <td>1025</td>\n",
       "      <td>1.785330</td>\n",
       "      <td>7.670533</td>\n",
       "      <td>2.037386</td>\n",
       "      <td>0.000354</td>\n",
       "    </tr>\n",
       "  </tbody>\n",
       "</table>\n",
       "<p>325853 rows × 59 columns</p>\n",
       "</div>"
      ],
      "text/plain": [
       "                                                 rms_ap  cor_ratio     rms_lf  \\\n",
       "pid                                  channel                                    \n",
       "00a824c0-e060-495f-9ebc-79c82fef4c67 0       -93.322170   0.754190 -90.644629   \n",
       "                                     1       -91.982491   0.411007 -90.323467   \n",
       "                                     2       -91.566196   0.451987 -90.232606   \n",
       "                                     3       -90.669213   0.469155 -87.667768   \n",
       "                                     4       -91.297692   0.338838 -89.531428   \n",
       "...                                                 ...        ...        ...   \n",
       "ffb1b072-2de7-44a4-8115-5799b9866382 379     -88.665620   0.788894 -86.852443   \n",
       "                                     380     -88.228718   0.766668 -86.533096   \n",
       "                                     381     -88.432738   0.744558 -86.795452   \n",
       "                                     382     -87.946953   0.696702 -86.330790   \n",
       "                                     383     -88.010332   0.695542 -86.655819   \n",
       "\n",
       "                                               psd_delta   psd_theta  \\\n",
       "pid                                  channel                           \n",
       "00a824c0-e060-495f-9ebc-79c82fef4c67 0       -101.787283 -104.159496   \n",
       "                                     1       -101.573927 -104.459178   \n",
       "                                     2       -101.712161 -104.223009   \n",
       "                                     3        -97.225263 -102.353363   \n",
       "                                     4        -99.494953 -104.781015   \n",
       "...                                                  ...         ...   \n",
       "ffb1b072-2de7-44a4-8115-5799b9866382 379      -96.893853 -101.622061   \n",
       "                                     380      -96.756403 -101.407902   \n",
       "                                     381      -97.154323 -101.746486   \n",
       "                                     382      -96.286040 -101.416863   \n",
       "                                     383      -97.056808 -101.644340   \n",
       "\n",
       "                                               psd_alpha    psd_beta  \\\n",
       "pid                                  channel                           \n",
       "00a824c0-e060-495f-9ebc-79c82fef4c67 0       -105.973834 -112.510019   \n",
       "                                     1       -106.397486 -112.693430   \n",
       "                                     2       -106.204256 -112.325320   \n",
       "                                     3       -104.408635 -110.429818   \n",
       "                                     4       -106.740744 -112.371962   \n",
       "...                                                  ...         ...   \n",
       "ffb1b072-2de7-44a4-8115-5799b9866382 379     -104.861699 -110.253048   \n",
       "                                     380     -104.768071 -110.041355   \n",
       "                                     381     -104.903059 -110.157332   \n",
       "                                     382     -104.826851 -109.906594   \n",
       "                                     383     -105.094410 -110.118663   \n",
       "\n",
       "                                               psd_gamma     psd_lfp  \\\n",
       "pid                                  channel                           \n",
       "00a824c0-e060-495f-9ebc-79c82fef4c67 0       -115.888470 -112.043098   \n",
       "                                     1       -115.906262 -111.789864   \n",
       "                                     2       -115.555288 -111.863034   \n",
       "                                     3       -114.125412 -109.164580   \n",
       "                                     4       -115.086073 -111.196320   \n",
       "...                                                  ...         ...   \n",
       "ffb1b072-2de7-44a4-8115-5799b9866382 379     -113.620168 -108.627753   \n",
       "                                     380     -113.450934 -108.257603   \n",
       "                                     381     -113.669899 -108.536956   \n",
       "                                     382     -113.303112 -108.127909   \n",
       "                                     383     -113.458966 -108.403703   \n",
       "\n",
       "                                                rms_lf_csd  ...  x_target_y  \\\n",
       "pid                                  channel                ...               \n",
       "00a824c0-e060-495f-9ebc-79c82fef4c67 0        5.301135e-09  ...   -0.000352   \n",
       "                                     1        4.167098e-09  ...   -0.000352   \n",
       "                                     2        4.423924e-09  ...   -0.000357   \n",
       "                                     3        6.094140e-09  ...   -0.000357   \n",
       "                                     4        5.301135e-09  ...   -0.000362   \n",
       "...                                                    ...  ...         ...   \n",
       "ffb1b072-2de7-44a4-8115-5799b9866382 379      2.246219e-09  ...    0.001347   \n",
       "                                     380      2.309263e-09  ...    0.001350   \n",
       "                                     381      2.250892e-09  ...    0.001350   \n",
       "                                     382      2.119030e-09  ...    0.001353   \n",
       "                                     383      2.246219e-09  ...    0.001353   \n",
       "\n",
       "                                              y_target_y  z_target_y  \\\n",
       "pid                                  channel                           \n",
       "00a824c0-e060-495f-9ebc-79c82fef4c67 0         -0.002844   -0.003299   \n",
       "                                     1         -0.002844   -0.003299   \n",
       "                                     2         -0.002844   -0.003279   \n",
       "                                     3         -0.002844   -0.003279   \n",
       "                                     4         -0.002844   -0.003260   \n",
       "...                                                  ...         ...   \n",
       "ffb1b072-2de7-44a4-8115-5799b9866382 379       -0.006209   -0.003445   \n",
       "                                     380       -0.006209   -0.003426   \n",
       "                                     381       -0.006209   -0.003426   \n",
       "                                     382       -0.006209   -0.003406   \n",
       "                                     383       -0.006209   -0.003406   \n",
       "\n",
       "                                              atlas_id_target_y  cosmos_id  \\\n",
       "pid                                  channel                                 \n",
       "00a824c0-e060-495f-9ebc-79c82fef4c67 0                      795        313   \n",
       "                                     1                      795        313   \n",
       "                                     2                      795        313   \n",
       "                                     3                      795        313   \n",
       "                                     4                      795        313   \n",
       "...                                                         ...        ...   \n",
       "ffb1b072-2de7-44a4-8115-5799b9866382 379                    512        512   \n",
       "                                     380                    512        512   \n",
       "                                     381                    512        512   \n",
       "                                     382                    512        512   \n",
       "                                     383                    512        512   \n",
       "\n",
       "                                              beryl_id  spike_count_log  \\\n",
       "pid                                  channel                              \n",
       "00a824c0-e060-495f-9ebc-79c82fef4c67 0             128         1.518514   \n",
       "                                     1             128         2.171726   \n",
       "                                     2             128         1.744293   \n",
       "                                     3             128         2.000000   \n",
       "                                     4             128         1.380211   \n",
       "...                                                ...              ...   \n",
       "ffb1b072-2de7-44a4-8115-5799b9866382 379          1025         1.550228   \n",
       "                                     380          1025         1.806180   \n",
       "                                     381          1025         1.954243   \n",
       "                                     382          1025         1.845098   \n",
       "                                     383          1025         1.785330   \n",
       "\n",
       "                                              peak_to_trough_ratio  \\\n",
       "pid                                  channel                         \n",
       "00a824c0-e060-495f-9ebc-79c82fef4c67 0                    2.563161   \n",
       "                                     1                    2.780851   \n",
       "                                     2                    2.581176   \n",
       "                                     3                    2.500806   \n",
       "                                     4                    2.317294   \n",
       "...                                                            ...   \n",
       "ffb1b072-2de7-44a4-8115-5799b9866382 379                  2.638062   \n",
       "                                     380                  3.538747   \n",
       "                                     381                  2.622191   \n",
       "                                     382                  2.704797   \n",
       "                                     383                  7.670533   \n",
       "\n",
       "                                              peak_to_trough_ratio_log  \\\n",
       "pid                                  channel                             \n",
       "00a824c0-e060-495f-9ebc-79c82fef4c67 0                        0.941241   \n",
       "                                     1                        1.022757   \n",
       "                                     2                        0.948245   \n",
       "                                     3                        0.916613   \n",
       "                                     4                        0.840400   \n",
       "...                                                                ...   \n",
       "ffb1b072-2de7-44a4-8115-5799b9866382 379                      0.970045   \n",
       "                                     380                      1.263773   \n",
       "                                     381                      0.964010   \n",
       "                                     382                      0.995027   \n",
       "                                     383                      2.037386   \n",
       "\n",
       "                                              peak_to_trough_duration  \n",
       "pid                                  channel                           \n",
       "00a824c0-e060-495f-9ebc-79c82fef4c67 0                       0.000324  \n",
       "                                     1                       0.000290  \n",
       "                                     2                       0.000330  \n",
       "                                     3                       0.000319  \n",
       "                                     4                       0.000405  \n",
       "...                                                               ...  \n",
       "ffb1b072-2de7-44a4-8115-5799b9866382 379                     0.000368  \n",
       "                                     380                     0.000335  \n",
       "                                     381                     0.000365  \n",
       "                                     382                     0.000339  \n",
       "                                     383                     0.000354  \n",
       "\n",
       "[325853 rows x 59 columns]"
      ]
     },
     "execution_count": 10,
     "metadata": {},
     "output_type": "execute_result"
    }
   ],
   "source": [
    "df_voltage"
   ]
  },
  {
   "cell_type": "code",
   "execution_count": 11,
   "id": "685901cd-51b5-4f91-8309-fee1265a9533",
   "metadata": {},
   "outputs": [
    {
     "data": {
      "text/plain": [
       "(325853, 59)"
      ]
     },
     "execution_count": 11,
     "metadata": {},
     "output_type": "execute_result"
    }
   ],
   "source": [
    "df_voltage.shape"
   ]
  },
  {
   "cell_type": "code",
   "execution_count": 12,
   "id": "0abe929e-ae4b-40d9-9961-7607ebf353da",
   "metadata": {},
   "outputs": [
    {
     "data": {
      "text/plain": [
       "pid                                   channel\n",
       "00a824c0-e060-495f-9ebc-79c82fef4c67  0          MRN\n",
       "                                      1          MRN\n",
       "                                      2          MRN\n",
       "                                      3          MRN\n",
       "                                      4          MRN\n",
       "                                                ... \n",
       "ffb1b072-2de7-44a4-8115-5799b9866382  379        PRM\n",
       "                                      380        PRM\n",
       "                                      381        PRM\n",
       "                                      382        PRM\n",
       "                                      383        PRM\n",
       "Name: acronym, Length: 325853, dtype: object"
      ]
     },
     "execution_count": 12,
     "metadata": {},
     "output_type": "execute_result"
    }
   ],
   "source": [
    "df_voltage.acronym"
   ]
  },
  {
   "cell_type": "code",
   "execution_count": 13,
   "id": "294c7fa9-0dea-4fc9-85f2-91c38504b33e",
   "metadata": {},
   "outputs": [
    {
     "data": {
      "text/plain": [
       "FrozenList(['pid', 'channel'])"
      ]
     },
     "execution_count": 13,
     "metadata": {},
     "output_type": "execute_result"
    }
   ],
   "source": [
    "df_voltage.index.names"
   ]
  },
  {
   "cell_type": "code",
   "execution_count": 14,
   "id": "ff66c6c0-966f-47f3-99a0-8e81c6a78d25",
   "metadata": {},
   "outputs": [
    {
     "data": {
      "text/plain": [
       "(325853,)"
      ]
     },
     "execution_count": 14,
     "metadata": {},
     "output_type": "execute_result"
    }
   ],
   "source": [
    "df_voltage.index.shape"
   ]
  },
  {
   "cell_type": "markdown",
   "id": "f2b930b2-7a97-4e29-ba87-30330cd7f090",
   "metadata": {
    "jp-MarkdownHeadingCollapsed": true
   },
   "source": [
    "## Distribution plotting functions"
   ]
  },
  {
   "cell_type": "raw",
   "id": "0f0e84b0-88ce-4eb1-a376-f19c8d13696b",
   "metadata": {
    "jupyter": {
     "source_hidden": true
    }
   },
   "source": [
    "series = df_voltage[feature]\n",
    "series = df_voltage.loc[df_voltage['acronym'] == acronym, feature]"
   ]
  },
  {
   "attachments": {},
   "cell_type": "raw",
   "id": "d24f0606-3e1c-4ff9-bfa7-c7b80fcf025e",
   "metadata": {
    "jupyter": {
     "source_hidden": true
    },
    "vscode": {
     "languageId": "raw"
    }
   },
   "source": [
    "quantiles = quantiles if quantiles is not None else QUANTILES\n",
    "quantile_values = np.quantile(series, quantiles)\n",
    "\n",
    "bins = bins if bins is not None else BINS\n",
    "\n",
    "hist_values, bin_edges = np.histogram(series, bins=bins)\n",
    "\n",
    "bin_centers = (bin_edges[:-1] + bin_edges[1:]) / 2\n",
    "\n",
    "color_indices = np.digitize(bin_centers, quantile_values, right=True)\n",
    "colors = cm.viridis(color_indices / color_indices.max())\n",
    "\n",
    "ax.bar(bin_edges[:-1], hist_values, width=np.diff(bin_edges), color=colors, align='edge')\n",
    "\n",
    "ax.set_xlabel(feature)\n",
    "ax.set_ylabel('Count')\n",
    "ax.set_title(acronym)\n",
    "ax.text(\n",
    "    0.95, 0.95, f\"Total samples: {len(series):,}\",\n",
    "    transform=ax.transAxes, ha='right', va='top', fontsize=12,\n",
    ")\n",
    "\n",
    "ax.spines['top'].set_visible(False)\n",
    "ax.spines['right'].set_visible(False)\n",
    "ax.tick_params(axis='both', which='both', direction='out', length=6)\n",
    "ax.set_facecolor('#f9f9f9')\n",
    "plt.tight_layout()"
   ]
  },
  {
   "cell_type": "code",
   "execution_count": 15,
   "id": "62e72b5b7e0b7ddc",
   "metadata": {},
   "outputs": [],
   "source": [
    "def select_series_v2(df, features=None, acronym=None, id=None, mapping='Allen'):\n",
    "    if features is None:  # Take the whole set\n",
    "        features = voltage_features_set()\n",
    "    if acronym is not None:\n",
    "        series = df.loc[df[f'{mapping}_acronym'] == acronym, features]\n",
    "    elif id is not None:\n",
    "        series = df.loc[df[f'{mapping}_id'] == id, features]\n",
    "    return series"
   ]
  },
  {
   "cell_type": "code",
   "execution_count": 16,
   "id": "e987d81a-45ac-4de5-b381-cfa3d23efc8d",
   "metadata": {},
   "outputs": [],
   "source": [
    "def select_series(df, feature=None, acronym=None, beryl_id=None):\n",
    "    if acronym is not None:\n",
    "        series = df.loc[df['acronym'] == acronym, feature or features]\n",
    "    elif beryl_id is not None:\n",
    "        series = df.loc[df['beryl_id'] == beryl_id, feature or features]\n",
    "    elif feature is not None:\n",
    "        series = df[feature]\n",
    "    return series"
   ]
  },
  {
   "cell_type": "code",
   "execution_count": 17,
   "id": "243ecba4-90cc-4c13-a4bb-b436f255e771",
   "metadata": {},
   "outputs": [],
   "source": [
    "def plot_histogram(series, ax=None, quantiles=None, bins=None, xlabel=None, title=None):\n",
    "    quantiles = quantiles if quantiles is not None else QUANTILES\n",
    "    quantile_values = np.quantile(series, quantiles)\n",
    "\n",
    "    bins = bins if bins is not None else BINS\n",
    "\n",
    "    hist_values, bin_edges = np.histogram(series, bins=bins)\n",
    "    bin_centers = (bin_edges[:-1] + bin_edges[1:]) / 2\n",
    "\n",
    "    color_indices = np.digitize(bin_centers, quantile_values, right=True)\n",
    "    colors = cm.viridis(color_indices / color_indices.max())\n",
    "\n",
    "    ax.bar(bin_edges[:-1], hist_values, width=np.diff(bin_edges), color=colors, align='edge')\n",
    "\n",
    "    ax.set_xlabel(xlabel)\n",
    "    ax.set_ylabel('Count')\n",
    "    ax.set_title(title)\n",
    "    ax.text(\n",
    "        0.95, 0.95, f\"{len(series):,} samples\",\n",
    "        transform=ax.transAxes, ha='right', va='top', fontsize=12,\n",
    "    )\n",
    "\n",
    "    ax.spines['top'].set_visible(False)\n",
    "    ax.spines['right'].set_visible(False)\n",
    "    ax.tick_params(axis='both', which='both', direction='out', length=6)\n",
    "    ax.set_facecolor('#f9f9f9')\n",
    "    plt.tight_layout()"
   ]
  },
  {
   "cell_type": "markdown",
   "id": "70c7feaf-3be6-4ce0-b627-abdb417012c2",
   "metadata": {
    "jp-MarkdownHeadingCollapsed": true
   },
   "source": [
    "## Plots"
   ]
  },
  {
   "cell_type": "raw",
   "id": "4f2c28a6-b04d-4669-8246-f03e2067b703",
   "metadata": {},
   "source": [
    "fig, ax = plt.subplots()\n",
    "series = select_series(df_voltage, feature)\n",
    "plot_histogram(series, ax=ax, xlabel=feature, title=None)\n",
    "plt.show()"
   ]
  },
  {
   "cell_type": "raw",
   "id": "a314971e-1485-4312-8300-e8bcfda384c7",
   "metadata": {},
   "source": [
    "feature = 'psd_alpha'"
   ]
  },
  {
   "cell_type": "raw",
   "id": "5bf8345f-c3a2-487a-8536-71d675372990",
   "metadata": {},
   "source": [
    "grid_size = (5, 3)\n",
    "N = grid_size[0] * grid_size[1]\n",
    "selected = zip(beryl_ids[:N], acronyms[:N])\n",
    "\n",
    "fig, axes = plt.subplots(*grid_size, figsize=(8.27*1.5, 11.69*1.5), dpi=200)\n",
    "axes = axes.flatten()\n",
    "\n",
    "for i, (beryl_id, acronym) in enumerate(selected):\n",
    "    ax = axes[i]\n",
    "    series = select_series(df_voltage, feature, beryl_id=beryl_id)\n",
    "    plot_histogram(series, ax=ax, xlabel=feature, title=acronym)\n",
    "\n",
    "for i in range(N, len(axes)):\n",
    "    fig.delaxes(axes[i])\n",
    "\n",
    "plt.tight_layout()\n",
    "plt.show()"
   ]
  },
  {
   "cell_type": "raw",
   "id": "6f4440a4-cee7-47b3-8f85-bb74eb8f27ce",
   "metadata": {
    "scrolled": true,
    "vscode": {
     "languageId": "raw"
    }
   },
   "source": [
    "grid_size = (5, 3)\n",
    "subplots_per_page = grid_size[0] * grid_size[1]\n",
    "\n",
    "chunks = [\n",
    "    (beryl_ids[i:i + subplots_per_page], acronyms[i:i + subplots_per_page])\n",
    "    for i in range(0, len(beryl_ids), subplots_per_page)\n",
    "]\n",
    "\n",
    "for feature in features:\n",
    "    pdf_filename = f\"histograms_{feature}.pdf\"\n",
    "    print(\"Generating\", pdf_filename, \"...\")\n",
    "    with PdfPages(pdf_filename) as pdf:\n",
    "        for beryl_chunk, acronym_chunk in tqdm.tqdm(chunks):\n",
    "            fig, axes = plt.subplots(*grid_size, figsize=(8.27*1.5, 11.69*1.5), dpi=200)\n",
    "            axes = axes.flatten()\n",
    "\n",
    "            for i, (beryl_id, acronym) in enumerate(zip(beryl_chunk, acronym_chunk)):\n",
    "                ax = axes[i]\n",
    "                series = select_series(df_voltage, feature, beryl_id=beryl_id)\n",
    "                plot_histogram(series, ax=ax, xlabel=feature, title=acronym)\n",
    "\n",
    "            # Hide unused subplots\n",
    "            for i in range(len(beryl_chunk), len(axes)):\n",
    "                fig.delaxes(axes[i])\n",
    "\n",
    "            plt.tight_layout()\n",
    "            pdf.savefig(fig)\n",
    "            plt.close(fig)"
   ]
  },
  {
   "cell_type": "raw",
   "id": "1bf7283e-8c13-4501-b2f8-5411999e05de",
   "metadata": {},
   "source": [
    "len(features), features"
   ]
  },
  {
   "cell_type": "raw",
   "id": "c204e760-21d6-488b-b7b1-89ffaba75c34",
   "metadata": {
    "editable": true,
    "scrolled": true,
    "slideshow": {
     "slide_type": ""
    },
    "tags": [],
    "vscode": {
     "languageId": "raw"
    }
   },
   "source": [
    "grid_size = (5, 3)\n",
    "subplots_per_page = grid_size[0] * grid_size[1]\n",
    "\n",
    "chunks = [\n",
    "    features[i:i + subplots_per_page]\n",
    "    for i in range(0, len(features), subplots_per_page)\n",
    "]\n",
    "\n",
    "for beryl_id, acronym in zip(beryl_ids, acronyms):\n",
    "    pdf_filename = f\"per_region/histograms_{acronym}.pdf\"\n",
    "    print(\"Generating\", pdf_filename, \"...\")\n",
    "    with PdfPages(pdf_filename) as pdf:\n",
    "        for feature_chunk in tqdm.tqdm(chunks):\n",
    "            fig, axes = plt.subplots(*grid_size, figsize=(8.27*1.5, 11.69*1.5), dpi=200)\n",
    "            axes = axes.flatten()\n",
    "\n",
    "            for i, feature in enumerate(feature_chunk):\n",
    "                ax = axes[i]\n",
    "                series = select_series(df_voltage, feature, beryl_id=beryl_id)\n",
    "                plot_histogram(series, ax=ax, xlabel=feature, title=acronym)\n",
    "\n",
    "            # Hide unused subplots\n",
    "            for i in range(len(feature_chunk), len(axes)):\n",
    "                fig.delaxes(axes[i])\n",
    "\n",
    "            plt.tight_layout()\n",
    "            pdf.savefig(fig)\n",
    "            plt.close(fig)"
   ]
  },
  {
   "cell_type": "markdown",
   "id": "5ab59c87-128b-4503-b6cf-a05e455516c6",
   "metadata": {
    "jp-MarkdownHeadingCollapsed": true
   },
   "source": [
    "## Channels"
   ]
  },
  {
   "cell_type": "code",
   "execution_count": 18,
   "id": "797580a3-b77e-4281-86b2-3270016b6bfd",
   "metadata": {},
   "outputs": [
    {
     "data": {
      "text/plain": [
       "Index(['x', 'y', 'z', 'acronym', 'atlas_id', 'axial_um', 'lateral_um',\n",
       "       'x_target', 'y_target', 'z_target', 'atlas_id_target'],\n",
       "      dtype='object')"
      ]
     },
     "execution_count": 18,
     "metadata": {},
     "output_type": "execute_result"
    }
   ],
   "source": [
    "df_channels.columns"
   ]
  },
  {
   "cell_type": "code",
   "execution_count": 19,
   "id": "a7629a41-54ca-4321-9e82-2847b5be3b1b",
   "metadata": {},
   "outputs": [
    {
     "data": {
      "text/plain": [
       "FrozenList(['pid', 'channel'])"
      ]
     },
     "execution_count": 19,
     "metadata": {},
     "output_type": "execute_result"
    }
   ],
   "source": [
    "df_channels.index.names"
   ]
  },
  {
   "cell_type": "code",
   "execution_count": 20,
   "id": "ae7e3a76-162d-4f14-b1e8-8fba9a973f19",
   "metadata": {},
   "outputs": [
    {
     "data": {
      "text/plain": [
       "(384768,)"
      ]
     },
     "execution_count": 20,
     "metadata": {},
     "output_type": "execute_result"
    }
   ],
   "source": [
    "df_channels.index.shape"
   ]
  },
  {
   "cell_type": "code",
   "execution_count": 21,
   "id": "f87db29e-868c-4e37-a781-384a51a2ce19",
   "metadata": {},
   "outputs": [
    {
     "data": {
      "text/plain": [
       "pid                                   channel\n",
       "00a824c0-e060-495f-9ebc-79c82fef4c67  0          MRN\n",
       "                                      1          MRN\n",
       "                                      2          MRN\n",
       "                                      3          MRN\n",
       "                                      4          MRN\n",
       "                                                ... \n",
       "ffb1b072-2de7-44a4-8115-5799b9866382  379        PRM\n",
       "                                      380        PRM\n",
       "                                      381        PRM\n",
       "                                      382        PRM\n",
       "                                      383        PRM\n",
       "Name: acronym, Length: 384768, dtype: object"
      ]
     },
     "execution_count": 21,
     "metadata": {},
     "output_type": "execute_result"
    }
   ],
   "source": [
    "df_channels.acronym"
   ]
  },
  {
   "cell_type": "markdown",
   "id": "4e7db31b-6422-4fbd-b6fc-5657e900665c",
   "metadata": {
    "jp-MarkdownHeadingCollapsed": true
   },
   "source": [
    "## Distribution comparison"
   ]
  },
  {
   "cell_type": "code",
   "execution_count": 22,
   "id": "7cd2e085-e30a-4575-b39a-06fb1c38f976",
   "metadata": {},
   "outputs": [],
   "source": [
    "feature = features[0]"
   ]
  },
  {
   "cell_type": "code",
   "execution_count": 37,
   "id": "71332345",
   "metadata": {},
   "outputs": [
    {
     "data": {
      "text/plain": [
       "['rms_ap',\n",
       " 'rms_lf',\n",
       " 'psd_delta',\n",
       " 'psd_theta',\n",
       " 'psd_alpha',\n",
       " 'psd_beta',\n",
       " 'psd_gamma',\n",
       " 'alpha_mean',\n",
       " 'alpha_std',\n",
       " 'spike_count',\n",
       " 'peak_time_secs',\n",
       " 'peak_val',\n",
       " 'trough_time_secs',\n",
       " 'trough_val',\n",
       " 'tip_time_secs',\n",
       " 'tip_val',\n",
       " 'polarity',\n",
       " 'depolarisation_slope',\n",
       " 'repolarisation_slope',\n",
       " 'recovery_time_secs',\n",
       " 'recovery_slope']"
      ]
     },
     "execution_count": 37,
     "metadata": {},
     "output_type": "execute_result"
    }
   ],
   "source": [
    "features"
   ]
  },
  {
   "cell_type": "code",
   "execution_count": 23,
   "id": "91c25382-173d-4864-9a02-05ec20bb97fe",
   "metadata": {},
   "outputs": [
    {
     "data": {
      "text/plain": [
       "pid                                   channel\n",
       "00a824c0-e060-495f-9ebc-79c82fef4c67  0         -93.322170\n",
       "                                      1         -91.982491\n",
       "                                      2         -91.566196\n",
       "                                      3         -90.669213\n",
       "                                      4         -91.297692\n",
       "                                                   ...    \n",
       "ffb1b072-2de7-44a4-8115-5799b9866382  379       -88.665620\n",
       "                                      380       -88.228718\n",
       "                                      381       -88.432738\n",
       "                                      382       -87.946953\n",
       "                                      383       -88.010332\n",
       "Name: rms_ap, Length: 325853, dtype: float64"
      ]
     },
     "execution_count": 23,
     "metadata": {},
     "output_type": "execute_result"
    }
   ],
   "source": [
    "series = select_series(df_voltage, feature)\n",
    "series\n"
   ]
  },
  {
   "cell_type": "raw",
   "id": "ac7316de-1578-4efa-ac33-49f7927eb83c",
   "metadata": {
    "jupyter": {
     "source_hidden": true
    }
   },
   "source": [
    "allen_ids = br.remap(beryl_ids, \"Beryl\", \"Allen\")"
   ]
  },
  {
   "cell_type": "code",
   "execution_count": 24,
   "id": "56258144-2695-4bd6-926f-ab04a5e85550",
   "metadata": {},
   "outputs": [],
   "source": [
    "_, idx = br.id2index(beryl_ids, mapping=\"Beryl\")\n",
    "idx = np.array([_[0] for _ in idx])"
   ]
  },
  {
   "cell_type": "code",
   "execution_count": 25,
   "id": "7821b453-99df-4e58-9bb8-adc6074b5bff",
   "metadata": {},
   "outputs": [],
   "source": [
    "colors = br.rgb[idx] / 255.0"
   ]
  },
  {
   "cell_type": "code",
   "execution_count": 26,
   "id": "1ca85e6b-d786-41d6-bb33-79f109bdb13b",
   "metadata": {},
   "outputs": [
    {
     "data": {
      "text/html": [
       "<div>\n",
       "<style scoped>\n",
       "    .dataframe tbody tr th:only-of-type {\n",
       "        vertical-align: middle;\n",
       "    }\n",
       "\n",
       "    .dataframe tbody tr th {\n",
       "        vertical-align: top;\n",
       "    }\n",
       "\n",
       "    .dataframe thead th {\n",
       "        text-align: right;\n",
       "    }\n",
       "</style>\n",
       "<table border=\"1\" class=\"dataframe\">\n",
       "  <thead>\n",
       "    <tr style=\"text-align: right;\">\n",
       "      <th></th>\n",
       "      <th></th>\n",
       "      <th>rms_ap</th>\n",
       "      <th>cor_ratio</th>\n",
       "      <th>rms_lf</th>\n",
       "      <th>psd_delta</th>\n",
       "      <th>psd_theta</th>\n",
       "      <th>psd_alpha</th>\n",
       "      <th>psd_beta</th>\n",
       "      <th>psd_gamma</th>\n",
       "      <th>psd_lfp</th>\n",
       "      <th>rms_lf_csd</th>\n",
       "      <th>...</th>\n",
       "      <th>x_target_y</th>\n",
       "      <th>y_target_y</th>\n",
       "      <th>z_target_y</th>\n",
       "      <th>atlas_id_target_y</th>\n",
       "      <th>cosmos_id</th>\n",
       "      <th>beryl_id</th>\n",
       "      <th>spike_count_log</th>\n",
       "      <th>peak_to_trough_ratio</th>\n",
       "      <th>peak_to_trough_ratio_log</th>\n",
       "      <th>peak_to_trough_duration</th>\n",
       "    </tr>\n",
       "    <tr>\n",
       "      <th>pid</th>\n",
       "      <th>channel</th>\n",
       "      <th></th>\n",
       "      <th></th>\n",
       "      <th></th>\n",
       "      <th></th>\n",
       "      <th></th>\n",
       "      <th></th>\n",
       "      <th></th>\n",
       "      <th></th>\n",
       "      <th></th>\n",
       "      <th></th>\n",
       "      <th></th>\n",
       "      <th></th>\n",
       "      <th></th>\n",
       "      <th></th>\n",
       "      <th></th>\n",
       "      <th></th>\n",
       "      <th></th>\n",
       "      <th></th>\n",
       "      <th></th>\n",
       "      <th></th>\n",
       "      <th></th>\n",
       "    </tr>\n",
       "  </thead>\n",
       "  <tbody>\n",
       "    <tr>\n",
       "      <th rowspan=\"5\" valign=\"top\">00a824c0-e060-495f-9ebc-79c82fef4c67</th>\n",
       "      <th>0</th>\n",
       "      <td>-93.322170</td>\n",
       "      <td>0.754190</td>\n",
       "      <td>-90.644629</td>\n",
       "      <td>-101.787283</td>\n",
       "      <td>-104.159496</td>\n",
       "      <td>-105.973834</td>\n",
       "      <td>-112.510019</td>\n",
       "      <td>-115.888470</td>\n",
       "      <td>-112.043098</td>\n",
       "      <td>5.301135e-09</td>\n",
       "      <td>...</td>\n",
       "      <td>-0.000352</td>\n",
       "      <td>-0.002844</td>\n",
       "      <td>-0.003299</td>\n",
       "      <td>795</td>\n",
       "      <td>313</td>\n",
       "      <td>128</td>\n",
       "      <td>1.518514</td>\n",
       "      <td>2.563161</td>\n",
       "      <td>0.941241</td>\n",
       "      <td>0.000324</td>\n",
       "    </tr>\n",
       "    <tr>\n",
       "      <th>1</th>\n",
       "      <td>-91.982491</td>\n",
       "      <td>0.411007</td>\n",
       "      <td>-90.323467</td>\n",
       "      <td>-101.573927</td>\n",
       "      <td>-104.459178</td>\n",
       "      <td>-106.397486</td>\n",
       "      <td>-112.693430</td>\n",
       "      <td>-115.906262</td>\n",
       "      <td>-111.789864</td>\n",
       "      <td>4.167098e-09</td>\n",
       "      <td>...</td>\n",
       "      <td>-0.000352</td>\n",
       "      <td>-0.002844</td>\n",
       "      <td>-0.003299</td>\n",
       "      <td>795</td>\n",
       "      <td>313</td>\n",
       "      <td>128</td>\n",
       "      <td>2.171726</td>\n",
       "      <td>2.780851</td>\n",
       "      <td>1.022757</td>\n",
       "      <td>0.000290</td>\n",
       "    </tr>\n",
       "    <tr>\n",
       "      <th>2</th>\n",
       "      <td>-91.566196</td>\n",
       "      <td>0.451987</td>\n",
       "      <td>-90.232606</td>\n",
       "      <td>-101.712161</td>\n",
       "      <td>-104.223009</td>\n",
       "      <td>-106.204256</td>\n",
       "      <td>-112.325320</td>\n",
       "      <td>-115.555288</td>\n",
       "      <td>-111.863034</td>\n",
       "      <td>4.423924e-09</td>\n",
       "      <td>...</td>\n",
       "      <td>-0.000357</td>\n",
       "      <td>-0.002844</td>\n",
       "      <td>-0.003279</td>\n",
       "      <td>795</td>\n",
       "      <td>313</td>\n",
       "      <td>128</td>\n",
       "      <td>1.744293</td>\n",
       "      <td>2.581176</td>\n",
       "      <td>0.948245</td>\n",
       "      <td>0.000330</td>\n",
       "    </tr>\n",
       "    <tr>\n",
       "      <th>3</th>\n",
       "      <td>-90.669213</td>\n",
       "      <td>0.469155</td>\n",
       "      <td>-87.667768</td>\n",
       "      <td>-97.225263</td>\n",
       "      <td>-102.353363</td>\n",
       "      <td>-104.408635</td>\n",
       "      <td>-110.429818</td>\n",
       "      <td>-114.125412</td>\n",
       "      <td>-109.164580</td>\n",
       "      <td>6.094140e-09</td>\n",
       "      <td>...</td>\n",
       "      <td>-0.000357</td>\n",
       "      <td>-0.002844</td>\n",
       "      <td>-0.003279</td>\n",
       "      <td>795</td>\n",
       "      <td>313</td>\n",
       "      <td>128</td>\n",
       "      <td>2.000000</td>\n",
       "      <td>2.500806</td>\n",
       "      <td>0.916613</td>\n",
       "      <td>0.000319</td>\n",
       "    </tr>\n",
       "    <tr>\n",
       "      <th>4</th>\n",
       "      <td>-91.297692</td>\n",
       "      <td>0.338838</td>\n",
       "      <td>-89.531428</td>\n",
       "      <td>-99.494953</td>\n",
       "      <td>-104.781015</td>\n",
       "      <td>-106.740744</td>\n",
       "      <td>-112.371962</td>\n",
       "      <td>-115.086073</td>\n",
       "      <td>-111.196320</td>\n",
       "      <td>5.301135e-09</td>\n",
       "      <td>...</td>\n",
       "      <td>-0.000362</td>\n",
       "      <td>-0.002844</td>\n",
       "      <td>-0.003260</td>\n",
       "      <td>795</td>\n",
       "      <td>313</td>\n",
       "      <td>128</td>\n",
       "      <td>1.380211</td>\n",
       "      <td>2.317294</td>\n",
       "      <td>0.840400</td>\n",
       "      <td>0.000405</td>\n",
       "    </tr>\n",
       "    <tr>\n",
       "      <th>...</th>\n",
       "      <th>...</th>\n",
       "      <td>...</td>\n",
       "      <td>...</td>\n",
       "      <td>...</td>\n",
       "      <td>...</td>\n",
       "      <td>...</td>\n",
       "      <td>...</td>\n",
       "      <td>...</td>\n",
       "      <td>...</td>\n",
       "      <td>...</td>\n",
       "      <td>...</td>\n",
       "      <td>...</td>\n",
       "      <td>...</td>\n",
       "      <td>...</td>\n",
       "      <td>...</td>\n",
       "      <td>...</td>\n",
       "      <td>...</td>\n",
       "      <td>...</td>\n",
       "      <td>...</td>\n",
       "      <td>...</td>\n",
       "      <td>...</td>\n",
       "      <td>...</td>\n",
       "    </tr>\n",
       "    <tr>\n",
       "      <th rowspan=\"5\" valign=\"top\">ffb1b072-2de7-44a4-8115-5799b9866382</th>\n",
       "      <th>379</th>\n",
       "      <td>-88.665620</td>\n",
       "      <td>0.788894</td>\n",
       "      <td>-86.852443</td>\n",
       "      <td>-96.893853</td>\n",
       "      <td>-101.622061</td>\n",
       "      <td>-104.861699</td>\n",
       "      <td>-110.253048</td>\n",
       "      <td>-113.620168</td>\n",
       "      <td>-108.627753</td>\n",
       "      <td>2.246219e-09</td>\n",
       "      <td>...</td>\n",
       "      <td>0.001347</td>\n",
       "      <td>-0.006209</td>\n",
       "      <td>-0.003445</td>\n",
       "      <td>512</td>\n",
       "      <td>512</td>\n",
       "      <td>1025</td>\n",
       "      <td>1.550228</td>\n",
       "      <td>2.638062</td>\n",
       "      <td>0.970045</td>\n",
       "      <td>0.000368</td>\n",
       "    </tr>\n",
       "    <tr>\n",
       "      <th>380</th>\n",
       "      <td>-88.228718</td>\n",
       "      <td>0.766668</td>\n",
       "      <td>-86.533096</td>\n",
       "      <td>-96.756403</td>\n",
       "      <td>-101.407902</td>\n",
       "      <td>-104.768071</td>\n",
       "      <td>-110.041355</td>\n",
       "      <td>-113.450934</td>\n",
       "      <td>-108.257603</td>\n",
       "      <td>2.309263e-09</td>\n",
       "      <td>...</td>\n",
       "      <td>0.001350</td>\n",
       "      <td>-0.006209</td>\n",
       "      <td>-0.003426</td>\n",
       "      <td>512</td>\n",
       "      <td>512</td>\n",
       "      <td>1025</td>\n",
       "      <td>1.806180</td>\n",
       "      <td>3.538747</td>\n",
       "      <td>1.263773</td>\n",
       "      <td>0.000335</td>\n",
       "    </tr>\n",
       "    <tr>\n",
       "      <th>381</th>\n",
       "      <td>-88.432738</td>\n",
       "      <td>0.744558</td>\n",
       "      <td>-86.795452</td>\n",
       "      <td>-97.154323</td>\n",
       "      <td>-101.746486</td>\n",
       "      <td>-104.903059</td>\n",
       "      <td>-110.157332</td>\n",
       "      <td>-113.669899</td>\n",
       "      <td>-108.536956</td>\n",
       "      <td>2.250892e-09</td>\n",
       "      <td>...</td>\n",
       "      <td>0.001350</td>\n",
       "      <td>-0.006209</td>\n",
       "      <td>-0.003426</td>\n",
       "      <td>512</td>\n",
       "      <td>512</td>\n",
       "      <td>1025</td>\n",
       "      <td>1.954243</td>\n",
       "      <td>2.622191</td>\n",
       "      <td>0.964010</td>\n",
       "      <td>0.000365</td>\n",
       "    </tr>\n",
       "    <tr>\n",
       "      <th>382</th>\n",
       "      <td>-87.946953</td>\n",
       "      <td>0.696702</td>\n",
       "      <td>-86.330790</td>\n",
       "      <td>-96.286040</td>\n",
       "      <td>-101.416863</td>\n",
       "      <td>-104.826851</td>\n",
       "      <td>-109.906594</td>\n",
       "      <td>-113.303112</td>\n",
       "      <td>-108.127909</td>\n",
       "      <td>2.119030e-09</td>\n",
       "      <td>...</td>\n",
       "      <td>0.001353</td>\n",
       "      <td>-0.006209</td>\n",
       "      <td>-0.003406</td>\n",
       "      <td>512</td>\n",
       "      <td>512</td>\n",
       "      <td>1025</td>\n",
       "      <td>1.845098</td>\n",
       "      <td>2.704797</td>\n",
       "      <td>0.995027</td>\n",
       "      <td>0.000339</td>\n",
       "    </tr>\n",
       "    <tr>\n",
       "      <th>383</th>\n",
       "      <td>-88.010332</td>\n",
       "      <td>0.695542</td>\n",
       "      <td>-86.655819</td>\n",
       "      <td>-97.056808</td>\n",
       "      <td>-101.644340</td>\n",
       "      <td>-105.094410</td>\n",
       "      <td>-110.118663</td>\n",
       "      <td>-113.458966</td>\n",
       "      <td>-108.403703</td>\n",
       "      <td>2.246219e-09</td>\n",
       "      <td>...</td>\n",
       "      <td>0.001353</td>\n",
       "      <td>-0.006209</td>\n",
       "      <td>-0.003406</td>\n",
       "      <td>512</td>\n",
       "      <td>512</td>\n",
       "      <td>1025</td>\n",
       "      <td>1.785330</td>\n",
       "      <td>7.670533</td>\n",
       "      <td>2.037386</td>\n",
       "      <td>0.000354</td>\n",
       "    </tr>\n",
       "  </tbody>\n",
       "</table>\n",
       "<p>325853 rows × 59 columns</p>\n",
       "</div>"
      ],
      "text/plain": [
       "                                                 rms_ap  cor_ratio     rms_lf  \\\n",
       "pid                                  channel                                    \n",
       "00a824c0-e060-495f-9ebc-79c82fef4c67 0       -93.322170   0.754190 -90.644629   \n",
       "                                     1       -91.982491   0.411007 -90.323467   \n",
       "                                     2       -91.566196   0.451987 -90.232606   \n",
       "                                     3       -90.669213   0.469155 -87.667768   \n",
       "                                     4       -91.297692   0.338838 -89.531428   \n",
       "...                                                 ...        ...        ...   \n",
       "ffb1b072-2de7-44a4-8115-5799b9866382 379     -88.665620   0.788894 -86.852443   \n",
       "                                     380     -88.228718   0.766668 -86.533096   \n",
       "                                     381     -88.432738   0.744558 -86.795452   \n",
       "                                     382     -87.946953   0.696702 -86.330790   \n",
       "                                     383     -88.010332   0.695542 -86.655819   \n",
       "\n",
       "                                               psd_delta   psd_theta  \\\n",
       "pid                                  channel                           \n",
       "00a824c0-e060-495f-9ebc-79c82fef4c67 0       -101.787283 -104.159496   \n",
       "                                     1       -101.573927 -104.459178   \n",
       "                                     2       -101.712161 -104.223009   \n",
       "                                     3        -97.225263 -102.353363   \n",
       "                                     4        -99.494953 -104.781015   \n",
       "...                                                  ...         ...   \n",
       "ffb1b072-2de7-44a4-8115-5799b9866382 379      -96.893853 -101.622061   \n",
       "                                     380      -96.756403 -101.407902   \n",
       "                                     381      -97.154323 -101.746486   \n",
       "                                     382      -96.286040 -101.416863   \n",
       "                                     383      -97.056808 -101.644340   \n",
       "\n",
       "                                               psd_alpha    psd_beta  \\\n",
       "pid                                  channel                           \n",
       "00a824c0-e060-495f-9ebc-79c82fef4c67 0       -105.973834 -112.510019   \n",
       "                                     1       -106.397486 -112.693430   \n",
       "                                     2       -106.204256 -112.325320   \n",
       "                                     3       -104.408635 -110.429818   \n",
       "                                     4       -106.740744 -112.371962   \n",
       "...                                                  ...         ...   \n",
       "ffb1b072-2de7-44a4-8115-5799b9866382 379     -104.861699 -110.253048   \n",
       "                                     380     -104.768071 -110.041355   \n",
       "                                     381     -104.903059 -110.157332   \n",
       "                                     382     -104.826851 -109.906594   \n",
       "                                     383     -105.094410 -110.118663   \n",
       "\n",
       "                                               psd_gamma     psd_lfp  \\\n",
       "pid                                  channel                           \n",
       "00a824c0-e060-495f-9ebc-79c82fef4c67 0       -115.888470 -112.043098   \n",
       "                                     1       -115.906262 -111.789864   \n",
       "                                     2       -115.555288 -111.863034   \n",
       "                                     3       -114.125412 -109.164580   \n",
       "                                     4       -115.086073 -111.196320   \n",
       "...                                                  ...         ...   \n",
       "ffb1b072-2de7-44a4-8115-5799b9866382 379     -113.620168 -108.627753   \n",
       "                                     380     -113.450934 -108.257603   \n",
       "                                     381     -113.669899 -108.536956   \n",
       "                                     382     -113.303112 -108.127909   \n",
       "                                     383     -113.458966 -108.403703   \n",
       "\n",
       "                                                rms_lf_csd  ...  x_target_y  \\\n",
       "pid                                  channel                ...               \n",
       "00a824c0-e060-495f-9ebc-79c82fef4c67 0        5.301135e-09  ...   -0.000352   \n",
       "                                     1        4.167098e-09  ...   -0.000352   \n",
       "                                     2        4.423924e-09  ...   -0.000357   \n",
       "                                     3        6.094140e-09  ...   -0.000357   \n",
       "                                     4        5.301135e-09  ...   -0.000362   \n",
       "...                                                    ...  ...         ...   \n",
       "ffb1b072-2de7-44a4-8115-5799b9866382 379      2.246219e-09  ...    0.001347   \n",
       "                                     380      2.309263e-09  ...    0.001350   \n",
       "                                     381      2.250892e-09  ...    0.001350   \n",
       "                                     382      2.119030e-09  ...    0.001353   \n",
       "                                     383      2.246219e-09  ...    0.001353   \n",
       "\n",
       "                                              y_target_y  z_target_y  \\\n",
       "pid                                  channel                           \n",
       "00a824c0-e060-495f-9ebc-79c82fef4c67 0         -0.002844   -0.003299   \n",
       "                                     1         -0.002844   -0.003299   \n",
       "                                     2         -0.002844   -0.003279   \n",
       "                                     3         -0.002844   -0.003279   \n",
       "                                     4         -0.002844   -0.003260   \n",
       "...                                                  ...         ...   \n",
       "ffb1b072-2de7-44a4-8115-5799b9866382 379       -0.006209   -0.003445   \n",
       "                                     380       -0.006209   -0.003426   \n",
       "                                     381       -0.006209   -0.003426   \n",
       "                                     382       -0.006209   -0.003406   \n",
       "                                     383       -0.006209   -0.003406   \n",
       "\n",
       "                                              atlas_id_target_y  cosmos_id  \\\n",
       "pid                                  channel                                 \n",
       "00a824c0-e060-495f-9ebc-79c82fef4c67 0                      795        313   \n",
       "                                     1                      795        313   \n",
       "                                     2                      795        313   \n",
       "                                     3                      795        313   \n",
       "                                     4                      795        313   \n",
       "...                                                         ...        ...   \n",
       "ffb1b072-2de7-44a4-8115-5799b9866382 379                    512        512   \n",
       "                                     380                    512        512   \n",
       "                                     381                    512        512   \n",
       "                                     382                    512        512   \n",
       "                                     383                    512        512   \n",
       "\n",
       "                                              beryl_id  spike_count_log  \\\n",
       "pid                                  channel                              \n",
       "00a824c0-e060-495f-9ebc-79c82fef4c67 0             128         1.518514   \n",
       "                                     1             128         2.171726   \n",
       "                                     2             128         1.744293   \n",
       "                                     3             128         2.000000   \n",
       "                                     4             128         1.380211   \n",
       "...                                                ...              ...   \n",
       "ffb1b072-2de7-44a4-8115-5799b9866382 379          1025         1.550228   \n",
       "                                     380          1025         1.806180   \n",
       "                                     381          1025         1.954243   \n",
       "                                     382          1025         1.845098   \n",
       "                                     383          1025         1.785330   \n",
       "\n",
       "                                              peak_to_trough_ratio  \\\n",
       "pid                                  channel                         \n",
       "00a824c0-e060-495f-9ebc-79c82fef4c67 0                    2.563161   \n",
       "                                     1                    2.780851   \n",
       "                                     2                    2.581176   \n",
       "                                     3                    2.500806   \n",
       "                                     4                    2.317294   \n",
       "...                                                            ...   \n",
       "ffb1b072-2de7-44a4-8115-5799b9866382 379                  2.638062   \n",
       "                                     380                  3.538747   \n",
       "                                     381                  2.622191   \n",
       "                                     382                  2.704797   \n",
       "                                     383                  7.670533   \n",
       "\n",
       "                                              peak_to_trough_ratio_log  \\\n",
       "pid                                  channel                             \n",
       "00a824c0-e060-495f-9ebc-79c82fef4c67 0                        0.941241   \n",
       "                                     1                        1.022757   \n",
       "                                     2                        0.948245   \n",
       "                                     3                        0.916613   \n",
       "                                     4                        0.840400   \n",
       "...                                                                ...   \n",
       "ffb1b072-2de7-44a4-8115-5799b9866382 379                      0.970045   \n",
       "                                     380                      1.263773   \n",
       "                                     381                      0.964010   \n",
       "                                     382                      0.995027   \n",
       "                                     383                      2.037386   \n",
       "\n",
       "                                              peak_to_trough_duration  \n",
       "pid                                  channel                           \n",
       "00a824c0-e060-495f-9ebc-79c82fef4c67 0                       0.000324  \n",
       "                                     1                       0.000290  \n",
       "                                     2                       0.000330  \n",
       "                                     3                       0.000319  \n",
       "                                     4                       0.000405  \n",
       "...                                                               ...  \n",
       "ffb1b072-2de7-44a4-8115-5799b9866382 379                     0.000368  \n",
       "                                     380                     0.000335  \n",
       "                                     381                     0.000365  \n",
       "                                     382                     0.000339  \n",
       "                                     383                     0.000354  \n",
       "\n",
       "[325853 rows x 59 columns]"
      ]
     },
     "execution_count": 26,
     "metadata": {},
     "output_type": "execute_result"
    }
   ],
   "source": [
    "df_voltage.loc[series.index]"
   ]
  },
  {
   "cell_type": "code",
   "execution_count": 27,
   "id": "61d86a50-280a-4b15-ae0f-121a2446dcbc",
   "metadata": {},
   "outputs": [],
   "source": [
    "agg_funcs = {\n",
    "    \"median\": \"median\",\n",
    "    \"std\": \"std\",\n",
    "    \"min\": \"min\",\n",
    "    \"max\": \"max\",\n",
    "    \"q01\": lambda x: x.quantile(0.01),\n",
    "    \"q99\": lambda x: x.quantile(0.99),\n",
    "}"
   ]
  },
  {
   "cell_type": "code",
   "execution_count": 28,
   "id": "bc59db26-c2ac-454d-b0d9-cd965b4354fa",
   "metadata": {},
   "outputs": [
    {
     "ename": "NameError",
     "evalue": "name 'df_stat_baks' is not defined",
     "output_type": "error",
     "traceback": [
      "\u001b[0;31m---------------------------------------------------------------------------\u001b[0m",
      "\u001b[0;31mNameError\u001b[0m                                 Traceback (most recent call last)",
      "Cell \u001b[0;32mIn[28], line 3\u001b[0m\n\u001b[1;32m      1\u001b[0m df_stats_bak \u001b[38;5;241m=\u001b[39m {}\n\u001b[1;32m      2\u001b[0m \u001b[38;5;28;01mfor\u001b[39;00m agg_name, agg_func \u001b[38;5;129;01min\u001b[39;00m agg_funcs\u001b[38;5;241m.\u001b[39mitems():\n\u001b[0;32m----> 3\u001b[0m     \u001b[43mdf_stat_baks\u001b[49m[agg_name] \u001b[38;5;241m=\u001b[39m df_voltage\u001b[38;5;241m.\u001b[39mgroupby(\u001b[38;5;124m\"\u001b[39m\u001b[38;5;124mberyl_id\u001b[39m\u001b[38;5;124m\"\u001b[39m)[features]\u001b[38;5;241m.\u001b[39magg(agg_func)\n",
      "\u001b[0;31mNameError\u001b[0m: name 'df_stat_baks' is not defined"
     ]
    }
   ],
   "source": [
    "df_stats_bak = {}\n",
    "for agg_name, agg_func in agg_funcs.items():\n",
    "    df_stat_baks[agg_name] = df_voltage.groupby(\"beryl_id\")[features].agg(agg_func)"
   ]
  },
  {
   "cell_type": "code",
   "execution_count": null,
   "id": "d00202e9-0534-4e82-9471-4096cdc4df5f",
   "metadata": {},
   "outputs": [],
   "source": [
    "acronyms = br.id2acronym(beryl_ids, mapping='Beryl')"
   ]
  },
  {
   "cell_type": "raw",
   "id": "e968ddef-95bb-4579-8b65-abc6809ccfd5",
   "metadata": {},
   "source": [
    "df_stats_bak = deepcopy(df_stats)"
   ]
  },
  {
   "cell_type": "raw",
   "id": "400f423a-58e4-43af-a7ba-01a66a1add54",
   "metadata": {
    "vscode": {
     "languageId": "raw"
    }
   },
   "source": [
    "N = len(beryl_ids)\n",
    "#N = 200\n",
    "\n",
    "df_stats = {key: df[:N] for key, df in df_stats_bak.items()}\n",
    "\n",
    "fig_width = 6\n",
    "fig_height = .14 * len(df_stats['median'])\n",
    "\n",
    "for feature in df_stats['median'].columns:\n",
    "    fig, axes = plt.subplots(len(df_stats['median']), 1, figsize=(fig_width, fig_height), sharex=True, dpi=200)\n",
    "\n",
    "    # Ensure axes is an iterable array\n",
    "    if len(df_stats['median']) == 1:\n",
    "        axes = [axes]\n",
    "    min_min = df_stats['min'][feature].min()\n",
    "    max_max = df_stats['max'][feature].max()\n",
    "\n",
    "    order = np.argsort(df_stats['median'][feature].values)\n",
    "    order = np.argsort(order)\n",
    "\n",
    "    for i, beryl_id in tqdm.tqdm(enumerate(df_stats['median'].index), total=N):\n",
    "        #iorder = i\n",
    "        iorder = order[i]\n",
    "        ax = axes[iorder]\n",
    "        # Extract statistics for the current region\n",
    "        median = df_stats['median'].loc[beryl_id, feature]\n",
    "        std = df_stats['std'].loc[beryl_id, feature]\n",
    "        min_val = df_stats['min'].loc[beryl_id, feature]\n",
    "        max_val = df_stats['max'].loc[beryl_id, feature]\n",
    "        q01 = df_stats['q01'].loc[beryl_id, feature]\n",
    "        q99 = df_stats['q99'].loc[beryl_id, feature]\n",
    "        color = colors[i]\n",
    "\n",
    "        # Draw a simplified box plot\n",
    "        ax.plot([min_val, max_val], [0, 0], color=[.5, .5, .5], linewidth=1)\n",
    "        ax.plot([q01, q99], [0, 0], color=color, linewidth=3)\n",
    "        ax.scatter(median, 0, color=color, edgecolor='black', linewidth=.5, s=20, zorder=3)\n",
    "        ax.fill_betweenx([-0.2, 0.2], median - std, median + std, color=color, alpha=0.3)\n",
    "\n",
    "        # Remove spines, ticks, and labels\n",
    "        ax.spines['top'].set_visible(False)\n",
    "        ax.spines['right'].set_visible(False)\n",
    "        ax.spines['bottom'].set_visible(False)\n",
    "        ax.spines['left'].set_visible(False)\n",
    "        if iorder < N-1:\n",
    "            ax.xaxis.set_visible(False)\n",
    "        else:\n",
    "            ax.xaxis.set_visible(True)\n",
    "            ax.tick_params(axis='x', which='both', direction='out', length=3, labelsize=6)\n",
    "        ax.set_yticks([])\n",
    "        ax.set_xlim(min_min, max_max)\n",
    "        ax.set_xlabel(feature, fontsize=8)\n",
    "\n",
    "        # Add acronym text on the left\n",
    "        ax.text(min_min, 0, acronyms[i], va='center', ha='right', fontsize=5, color='black')\n",
    "\n",
    "    fig.subplots_adjust(top=0.98, bottom=0.02, hspace=0.1)\n",
    "    fig.savefig(f\"comparison/distributions_{feature}.pdf\")\n",
    "    #break"
   ]
  },
  {
   "cell_type": "markdown",
   "id": "1958949b-d2d0-40b7-891d-ba21e1f823e0",
   "metadata": {},
   "source": [
    "## Outlier detection"
   ]
  },
  {
   "cell_type": "code",
   "execution_count": 51,
   "id": "b7de82b2-b88a-454e-8283-4846f8feeb74",
   "metadata": {
    "editable": true,
    "slideshow": {
     "slide_type": ""
    },
    "tags": []
   },
   "outputs": [],
   "source": [
    "import numpy as np\n",
    "from sklearn.neighbors import KernelDensity\n",
    "\n",
    "def detect_outliers_kde(train_data: np.ndarray, test_data: np.ndarray, kde=None):\n",
    "    \"\"\"\n",
    "    Detects outliers in D-dimensional space using Kernel Density Estimation (KDE).\n",
    "\n",
    "    Parameters:\n",
    "    - train_data: (N, D) numpy array, training dataset (assumed to represent the true distribution).\n",
    "    - test_data: (M, D) numpy array, test dataset (points to evaluate for outlier probability).\n",
    "\n",
    "    Returns:\n",
    "    - outlier_probs: (M,) numpy array, probability of each test sample being an outlier.\n",
    "    \"\"\"\n",
    "    # If kde is set, it is assumed to be alread trained\n",
    "    if not kde:\n",
    "        kde = KernelDensity()\n",
    "        kde.fit(train_data)\n",
    "    mean_score = kde.score(train_data) / train_data.shape[0]\n",
    "    out = 1 - np.exp(1-kde.score_samples(test_data) / mean_score)\n",
    "    return out"
   ]
  },
  {
   "cell_type": "code",
   "execution_count": 36,
   "id": "58c0831d",
   "metadata": {},
   "outputs": [
    {
     "data": {
      "text/html": [
       "<div>\n",
       "<style scoped>\n",
       "    .dataframe tbody tr th:only-of-type {\n",
       "        vertical-align: middle;\n",
       "    }\n",
       "\n",
       "    .dataframe tbody tr th {\n",
       "        vertical-align: top;\n",
       "    }\n",
       "\n",
       "    .dataframe thead th {\n",
       "        text-align: right;\n",
       "    }\n",
       "</style>\n",
       "<table border=\"1\" class=\"dataframe\">\n",
       "  <thead>\n",
       "    <tr style=\"text-align: right;\">\n",
       "      <th></th>\n",
       "      <th>rms_ap</th>\n",
       "      <th>cor_ratio</th>\n",
       "      <th>rms_lf</th>\n",
       "      <th>psd_delta</th>\n",
       "      <th>psd_theta</th>\n",
       "      <th>psd_alpha</th>\n",
       "      <th>psd_beta</th>\n",
       "      <th>psd_gamma</th>\n",
       "      <th>psd_lfp</th>\n",
       "      <th>rms_lf_csd</th>\n",
       "      <th>...</th>\n",
       "      <th>x_target_y</th>\n",
       "      <th>y_target_y</th>\n",
       "      <th>z_target_y</th>\n",
       "      <th>atlas_id_target_y</th>\n",
       "      <th>cosmos_id</th>\n",
       "      <th>beryl_id</th>\n",
       "      <th>spike_count_log</th>\n",
       "      <th>peak_to_trough_ratio</th>\n",
       "      <th>peak_to_trough_ratio_log</th>\n",
       "      <th>peak_to_trough_duration</th>\n",
       "    </tr>\n",
       "  </thead>\n",
       "  <tbody>\n",
       "    <tr>\n",
       "      <th>count</th>\n",
       "      <td>325853.000000</td>\n",
       "      <td>325853.000000</td>\n",
       "      <td>325853.000000</td>\n",
       "      <td>325853.000000</td>\n",
       "      <td>325853.000000</td>\n",
       "      <td>325853.000000</td>\n",
       "      <td>325853.000000</td>\n",
       "      <td>325853.000000</td>\n",
       "      <td>325853.000000</td>\n",
       "      <td>3.258530e+05</td>\n",
       "      <td>...</td>\n",
       "      <td>325853.000000</td>\n",
       "      <td>325853.000000</td>\n",
       "      <td>325853.000000</td>\n",
       "      <td>3.258530e+05</td>\n",
       "      <td>325853.000000</td>\n",
       "      <td>3.258530e+05</td>\n",
       "      <td>325853.000000</td>\n",
       "      <td>325853.000000</td>\n",
       "      <td>325853.000000</td>\n",
       "      <td>325853.000000</td>\n",
       "    </tr>\n",
       "    <tr>\n",
       "      <th>mean</th>\n",
       "      <td>-96.009721</td>\n",
       "      <td>0.387429</td>\n",
       "      <td>-87.273073</td>\n",
       "      <td>-97.521572</td>\n",
       "      <td>-101.757680</td>\n",
       "      <td>-104.947186</td>\n",
       "      <td>-109.834930</td>\n",
       "      <td>-113.696026</td>\n",
       "      <td>-108.664781</td>\n",
       "      <td>3.487836e-09</td>\n",
       "      <td>...</td>\n",
       "      <td>-0.001213</td>\n",
       "      <td>-0.001851</td>\n",
       "      <td>-0.003359</td>\n",
       "      <td>2.247150e+07</td>\n",
       "      <td>626.967817</td>\n",
       "      <td>1.672879e+07</td>\n",
       "      <td>1.599322</td>\n",
       "      <td>3.855849</td>\n",
       "      <td>1.074797</td>\n",
       "      <td>0.000396</td>\n",
       "    </tr>\n",
       "    <tr>\n",
       "      <th>std</th>\n",
       "      <td>3.535114</td>\n",
       "      <td>0.174793</td>\n",
       "      <td>6.018502</td>\n",
       "      <td>6.085233</td>\n",
       "      <td>7.053215</td>\n",
       "      <td>6.947147</td>\n",
       "      <td>6.251247</td>\n",
       "      <td>5.877766</td>\n",
       "      <td>6.177425</td>\n",
       "      <td>3.660158e-09</td>\n",
       "      <td>...</td>\n",
       "      <td>0.001514</td>\n",
       "      <td>0.002197</td>\n",
       "      <td>0.001539</td>\n",
       "      <td>9.856412e+07</td>\n",
       "      <td>306.561252</td>\n",
       "      <td>8.531819e+07</td>\n",
       "      <td>0.410162</td>\n",
       "      <td>50.844962</td>\n",
       "      <td>0.451518</td>\n",
       "      <td>0.000073</td>\n",
       "    </tr>\n",
       "    <tr>\n",
       "      <th>min</th>\n",
       "      <td>-112.809352</td>\n",
       "      <td>-6.565997</td>\n",
       "      <td>-106.573759</td>\n",
       "      <td>-118.192793</td>\n",
       "      <td>-123.572267</td>\n",
       "      <td>-126.297912</td>\n",
       "      <td>-129.854380</td>\n",
       "      <td>-132.931700</td>\n",
       "      <td>-128.000706</td>\n",
       "      <td>1.735108e-23</td>\n",
       "      <td>...</td>\n",
       "      <td>-0.005106</td>\n",
       "      <td>-0.006676</td>\n",
       "      <td>-0.008805</td>\n",
       "      <td>0.000000e+00</td>\n",
       "      <td>313.000000</td>\n",
       "      <td>4.000000e+00</td>\n",
       "      <td>0.301030</td>\n",
       "      <td>0.000330</td>\n",
       "      <td>-8.015037</td>\n",
       "      <td>0.000142</td>\n",
       "    </tr>\n",
       "    <tr>\n",
       "      <th>25%</th>\n",
       "      <td>-98.442188</td>\n",
       "      <td>0.254096</td>\n",
       "      <td>-91.711404</td>\n",
       "      <td>-102.026513</td>\n",
       "      <td>-107.018128</td>\n",
       "      <td>-110.105038</td>\n",
       "      <td>-114.493986</td>\n",
       "      <td>-118.033080</td>\n",
       "      <td>-113.266527</td>\n",
       "      <td>2.118871e-09</td>\n",
       "      <td>...</td>\n",
       "      <td>-0.002119</td>\n",
       "      <td>-0.003232</td>\n",
       "      <td>-0.004397</td>\n",
       "      <td>3.130000e+02</td>\n",
       "      <td>315.000000</td>\n",
       "      <td>3.100000e+02</td>\n",
       "      <td>1.322219</td>\n",
       "      <td>2.589121</td>\n",
       "      <td>0.951319</td>\n",
       "      <td>0.000344</td>\n",
       "    </tr>\n",
       "    <tr>\n",
       "      <th>50%</th>\n",
       "      <td>-96.480627</td>\n",
       "      <td>0.366389</td>\n",
       "      <td>-88.423175</td>\n",
       "      <td>-98.585751</td>\n",
       "      <td>-103.128853</td>\n",
       "      <td>-106.272475</td>\n",
       "      <td>-111.008808</td>\n",
       "      <td>-114.809080</td>\n",
       "      <td>-109.848528</td>\n",
       "      <td>2.539568e-09</td>\n",
       "      <td>...</td>\n",
       "      <td>-0.001377</td>\n",
       "      <td>-0.001846</td>\n",
       "      <td>-0.003374</td>\n",
       "      <td>6.720000e+02</td>\n",
       "      <td>549.000000</td>\n",
       "      <td>6.720000e+02</td>\n",
       "      <td>1.579784</td>\n",
       "      <td>2.943712</td>\n",
       "      <td>1.079671</td>\n",
       "      <td>0.000398</td>\n",
       "    </tr>\n",
       "    <tr>\n",
       "      <th>75%</th>\n",
       "      <td>-94.090506</td>\n",
       "      <td>0.497824</td>\n",
       "      <td>-83.626713</td>\n",
       "      <td>-93.678611</td>\n",
       "      <td>-97.274880</td>\n",
       "      <td>-100.699728</td>\n",
       "      <td>-106.128535</td>\n",
       "      <td>-110.256258</td>\n",
       "      <td>-104.865436</td>\n",
       "      <td>3.490380e-09</td>\n",
       "      <td>...</td>\n",
       "      <td>-0.000392</td>\n",
       "      <td>-0.000368</td>\n",
       "      <td>-0.002247</td>\n",
       "      <td>9.610000e+02</td>\n",
       "      <td>1065.000000</td>\n",
       "      <td>9.840000e+02</td>\n",
       "      <td>1.883661</td>\n",
       "      <td>3.308483</td>\n",
       "      <td>1.196490</td>\n",
       "      <td>0.000445</td>\n",
       "    </tr>\n",
       "    <tr>\n",
       "      <th>max</th>\n",
       "      <td>-75.927125</td>\n",
       "      <td>1.239223</td>\n",
       "      <td>-54.703607</td>\n",
       "      <td>-62.324811</td>\n",
       "      <td>-69.214692</td>\n",
       "      <td>-72.020700</td>\n",
       "      <td>-78.239393</td>\n",
       "      <td>-83.560927</td>\n",
       "      <td>-76.305780</td>\n",
       "      <td>3.428810e-07</td>\n",
       "      <td>...</td>\n",
       "      <td>0.003371</td>\n",
       "      <td>0.003174</td>\n",
       "      <td>0.006755</td>\n",
       "      <td>6.144543e+08</td>\n",
       "      <td>1097.000000</td>\n",
       "      <td>6.068267e+08</td>\n",
       "      <td>3.190192</td>\n",
       "      <td>16970.981110</td>\n",
       "      <td>9.739260</td>\n",
       "      <td>0.001233</td>\n",
       "    </tr>\n",
       "  </tbody>\n",
       "</table>\n",
       "<p>8 rows × 56 columns</p>\n",
       "</div>"
      ],
      "text/plain": [
       "              rms_ap      cor_ratio         rms_lf      psd_delta  \\\n",
       "count  325853.000000  325853.000000  325853.000000  325853.000000   \n",
       "mean      -96.009721       0.387429     -87.273073     -97.521572   \n",
       "std         3.535114       0.174793       6.018502       6.085233   \n",
       "min      -112.809352      -6.565997    -106.573759    -118.192793   \n",
       "25%       -98.442188       0.254096     -91.711404    -102.026513   \n",
       "50%       -96.480627       0.366389     -88.423175     -98.585751   \n",
       "75%       -94.090506       0.497824     -83.626713     -93.678611   \n",
       "max       -75.927125       1.239223     -54.703607     -62.324811   \n",
       "\n",
       "           psd_theta      psd_alpha       psd_beta      psd_gamma  \\\n",
       "count  325853.000000  325853.000000  325853.000000  325853.000000   \n",
       "mean     -101.757680    -104.947186    -109.834930    -113.696026   \n",
       "std         7.053215       6.947147       6.251247       5.877766   \n",
       "min      -123.572267    -126.297912    -129.854380    -132.931700   \n",
       "25%      -107.018128    -110.105038    -114.493986    -118.033080   \n",
       "50%      -103.128853    -106.272475    -111.008808    -114.809080   \n",
       "75%       -97.274880    -100.699728    -106.128535    -110.256258   \n",
       "max       -69.214692     -72.020700     -78.239393     -83.560927   \n",
       "\n",
       "             psd_lfp    rms_lf_csd  ...     x_target_y     y_target_y  \\\n",
       "count  325853.000000  3.258530e+05  ...  325853.000000  325853.000000   \n",
       "mean     -108.664781  3.487836e-09  ...      -0.001213      -0.001851   \n",
       "std         6.177425  3.660158e-09  ...       0.001514       0.002197   \n",
       "min      -128.000706  1.735108e-23  ...      -0.005106      -0.006676   \n",
       "25%      -113.266527  2.118871e-09  ...      -0.002119      -0.003232   \n",
       "50%      -109.848528  2.539568e-09  ...      -0.001377      -0.001846   \n",
       "75%      -104.865436  3.490380e-09  ...      -0.000392      -0.000368   \n",
       "max       -76.305780  3.428810e-07  ...       0.003371       0.003174   \n",
       "\n",
       "          z_target_y  atlas_id_target_y      cosmos_id      beryl_id  \\\n",
       "count  325853.000000       3.258530e+05  325853.000000  3.258530e+05   \n",
       "mean       -0.003359       2.247150e+07     626.967817  1.672879e+07   \n",
       "std         0.001539       9.856412e+07     306.561252  8.531819e+07   \n",
       "min        -0.008805       0.000000e+00     313.000000  4.000000e+00   \n",
       "25%        -0.004397       3.130000e+02     315.000000  3.100000e+02   \n",
       "50%        -0.003374       6.720000e+02     549.000000  6.720000e+02   \n",
       "75%        -0.002247       9.610000e+02    1065.000000  9.840000e+02   \n",
       "max         0.006755       6.144543e+08    1097.000000  6.068267e+08   \n",
       "\n",
       "       spike_count_log  peak_to_trough_ratio  peak_to_trough_ratio_log  \\\n",
       "count    325853.000000         325853.000000             325853.000000   \n",
       "mean          1.599322              3.855849                  1.074797   \n",
       "std           0.410162             50.844962                  0.451518   \n",
       "min           0.301030              0.000330                 -8.015037   \n",
       "25%           1.322219              2.589121                  0.951319   \n",
       "50%           1.579784              2.943712                  1.079671   \n",
       "75%           1.883661              3.308483                  1.196490   \n",
       "max           3.190192          16970.981110                  9.739260   \n",
       "\n",
       "       peak_to_trough_duration  \n",
       "count            325853.000000  \n",
       "mean                  0.000396  \n",
       "std                   0.000073  \n",
       "min                   0.000142  \n",
       "25%                   0.000344  \n",
       "50%                   0.000398  \n",
       "75%                   0.000445  \n",
       "max                   0.001233  \n",
       "\n",
       "[8 rows x 56 columns]"
      ]
     },
     "execution_count": 36,
     "metadata": {},
     "output_type": "execute_result"
    }
   ],
   "source": [
    "df_voltage.describe()"
   ]
  },
  {
   "cell_type": "code",
   "execution_count": 30,
   "id": "293cc72e-7984-49e2-8f43-f173b1656c9e",
   "metadata": {
    "editable": true,
    "slideshow": {
     "slide_type": ""
    },
    "tags": []
   },
   "outputs": [
    {
     "name": "stderr",
     "output_type": "stream",
     "text": [
      "100%|██████████| 288/288 [00:23<00:00, 12.27it/s]\n"
     ]
    }
   ],
   "source": [
    "outliers = []\n",
    "for beryl_id in tqdm.tqdm(beryl_ids):\n",
    "    series = select_series(df_voltage, beryl_id=beryl_id)\n",
    "    train_data = series.values\n",
    "    test_data = train_data\n",
    "    scores = detect_outliers_kde(train_data, test_data)\n",
    "    outliers.append(scores)\n",
    "outliers = sorted(outliers, key=len)"
   ]
  },
  {
   "cell_type": "code",
   "execution_count": 47,
   "id": "65c39adb",
   "metadata": {},
   "outputs": [
    {
     "name": "stderr",
     "output_type": "stream",
     "text": [
      "100%|██████████| 288/288 [00:05<00:00, 51.20it/s]\n"
     ]
    }
   ],
   "source": [
    "for beryl_id in tqdm.tqdm(beryl_ids):\n",
    "    kde = KernelDensity()\n",
    "    series = select_series(df_voltage, beryl_id=beryl_id)\n",
    "    kde.fit(series.values)\n",
    "    joblib.dump(kde, f'kdes/kde-{beryl_id:05d}.pkl')\n"
   ]
  },
  {
   "cell_type": "code",
   "execution_count": 49,
   "id": "e5fc0474",
   "metadata": {},
   "outputs": [
    {
     "data": {
      "text/plain": [
       "(325853, 59)"
      ]
     },
     "execution_count": 49,
     "metadata": {},
     "output_type": "execute_result"
    }
   ],
   "source": [
    "df_voltage.shape"
   ]
  },
  {
   "cell_type": "code",
   "execution_count": 50,
   "id": "853f41be",
   "metadata": {},
   "outputs": [
    {
     "data": {
      "text/plain": [
       "21"
      ]
     },
     "execution_count": 50,
     "metadata": {},
     "output_type": "execute_result"
    }
   ],
   "source": [
    "len(features)"
   ]
  },
  {
   "cell_type": "code",
   "execution_count": null,
   "id": "08eadc9c",
   "metadata": {},
   "outputs": [],
   "source": [
    "def compute_mean_score(beryl_id):\n",
    "    path = f'kdes/kde-{beryl_id:05d}.pkl'\n",
    "    series = select_series(df_voltage, beryl_id=beryl_id)[features]\n",
    "    kde = joblib.load(path)\n",
    "    mean_score = kde.score(series) / series.shape[0]\n",
    "    return mean_score\n"
   ]
  },
  {
   "cell_type": "code",
   "execution_count": null,
   "id": "81df9ad9",
   "metadata": {},
   "outputs": [],
   "source": [
    "scores = {beryl_id: compute_mean_score(beryl_id) for beryl_id in beryl_ids}"
   ]
  },
  {
   "cell_type": "code",
   "execution_count": null,
   "id": "e5c0c19e",
   "metadata": {},
   "outputs": [
    {
     "data": {
      "text/plain": [
       "['kdes/mean_scores.pkl']"
      ]
     },
     "execution_count": 101,
     "metadata": {},
     "output_type": "execute_result"
    }
   ],
   "source": [
    "joblib.dump(scores, \"kdes/mean_scores.pkl\")"
   ]
  },
  {
   "cell_type": "code",
   "execution_count": 104,
   "id": "c255414a",
   "metadata": {},
   "outputs": [],
   "source": [
    "class Outlier:\n",
    "    def __init__(self):\n",
    "        self.paths = {beryl_id: f'kdes/kde-{beryl_id:05d}.pkl' for beryl_id in beryl_ids}\n",
    "        self.kdes = {key: joblib.load(path) for key, path in self.paths.items()}\n",
    "        self.mean_scores = joblib.load('kdes/mean_scores.pkl')\n",
    "\n",
    "    def outlier_region(self, beryl_id, test_data):\n",
    "        #series = select_series(df_voltage, beryl_id=beryl_id)\n",
    "        #train_data = series.values\n",
    "        #return detect_outliers_kde(train_data, test_data, kde=self.kdes[beryl_id])\n",
    "        kde = self.kdes[beryl_id]\n",
    "        return 1 - np.exp(1-kde.score_samples(test_data) / self.mean_scores[beryl_id])\n",
    "\n",
    "    def outliers(self, test_data, region_ids):\n",
    "        n = test_data.shape[0]\n",
    "        unique_regions = np.unique(region_ids)\n",
    "        outliers = np.zeros(n)\n",
    "        for beryl_id in unique_regions:\n",
    "            idx = region_ids == beryl_id\n",
    "            test_data_region = test_data[idx]\n",
    "            outliers[idx] = self.outlier_region(beryl_id, test_data_region)\n",
    "        return outliers"
   ]
  },
  {
   "cell_type": "code",
   "execution_count": 68,
   "id": "52ec6a2a",
   "metadata": {},
   "outputs": [],
   "source": [
    "pid = \"b72b22c2-6e9d-4604-9910-20c0e1a467d7\""
   ]
  },
  {
   "cell_type": "code",
   "execution_count": 83,
   "id": "a42a0f9e",
   "metadata": {},
   "outputs": [],
   "source": [
    "channel_regions = br.id2id(df_voltage.loc[(pid,)].Allen_id, \"Beryl\")"
   ]
  },
  {
   "cell_type": "code",
   "execution_count": 108,
   "id": "e8b70206",
   "metadata": {},
   "outputs": [],
   "source": [
    "test_data = df_voltage.loc[(pid,), features]"
   ]
  },
  {
   "cell_type": "code",
   "execution_count": 109,
   "id": "47394bfe",
   "metadata": {},
   "outputs": [],
   "source": [
    "ou = Outlier()"
   ]
  },
  {
   "cell_type": "code",
   "execution_count": 110,
   "id": "4f79c6e9",
   "metadata": {},
   "outputs": [
    {
     "name": "stderr",
     "output_type": "stream",
     "text": [
      "/home/cyrille/GIT/IBL/paper-ephys-atlas/venv/lib/python3.12/site-packages/sklearn/utils/validation.py:2732: UserWarning: X has feature names, but KernelDensity was fitted without feature names\n",
      "  warnings.warn(\n",
      "/home/cyrille/GIT/IBL/paper-ephys-atlas/venv/lib/python3.12/site-packages/sklearn/utils/validation.py:2732: UserWarning: X has feature names, but KernelDensity was fitted without feature names\n",
      "  warnings.warn(\n",
      "/home/cyrille/GIT/IBL/paper-ephys-atlas/venv/lib/python3.12/site-packages/sklearn/utils/validation.py:2732: UserWarning: X has feature names, but KernelDensity was fitted without feature names\n",
      "  warnings.warn(\n",
      "/home/cyrille/GIT/IBL/paper-ephys-atlas/venv/lib/python3.12/site-packages/sklearn/utils/validation.py:2732: UserWarning: X has feature names, but KernelDensity was fitted without feature names\n",
      "  warnings.warn(\n"
     ]
    }
   ],
   "source": [
    "outliers = ou.outliers(test_data, channel_regions)"
   ]
  },
  {
   "cell_type": "code",
   "execution_count": 114,
   "id": "ada197a7",
   "metadata": {},
   "outputs": [
    {
     "data": {
      "text/plain": [
       "(array([  1.,   0.,   0.,   0.,   0.,   0.,   0.,   0.,   0.,   0.,   0.,\n",
       "          0.,   0.,   0.,   0.,   2.,   0.,   0.,   0.,   0.,   1.,   0.,\n",
       "          0.,   0.,   0.,   1.,   0.,   0.,   0.,   0.,   0.,   0.,   0.,\n",
       "          0.,   0.,   0.,   0.,   0.,   0.,   0.,   0.,   1.,   0.,   0.,\n",
       "          1.,   0.,   0.,   2.,  93., 118.]),\n",
       " array([-1.06581410e-14, -1.04383169e-14, -1.02184927e-14, -9.99866856e-15,\n",
       "        -9.77884440e-15, -9.55902024e-15, -9.33919608e-15, -9.11937192e-15,\n",
       "        -8.89954777e-15, -8.67972361e-15, -8.45989945e-15, -8.24007529e-15,\n",
       "        -8.02025113e-15, -7.80042697e-15, -7.58060281e-15, -7.36077865e-15,\n",
       "        -7.14095449e-15, -6.92113034e-15, -6.70130618e-15, -6.48148202e-15,\n",
       "        -6.26165786e-15, -6.04183370e-15, -5.82200954e-15, -5.60218538e-15,\n",
       "        -5.38236122e-15, -5.16253706e-15, -4.94271291e-15, -4.72288875e-15,\n",
       "        -4.50306459e-15, -4.28324043e-15, -4.06341627e-15, -3.84359211e-15,\n",
       "        -3.62376795e-15, -3.40394379e-15, -3.18411963e-15, -2.96429548e-15,\n",
       "        -2.74447132e-15, -2.52464716e-15, -2.30482300e-15, -2.08499884e-15,\n",
       "        -1.86517468e-15, -1.64535052e-15, -1.42552636e-15, -1.20570220e-15,\n",
       "        -9.85878046e-16, -7.66053887e-16, -5.46229728e-16, -3.26405569e-16,\n",
       "        -1.06581410e-16,  1.13242749e-16,  3.33066907e-16]),\n",
       " <BarContainer object of 50 artists>)"
      ]
     },
     "execution_count": 114,
     "metadata": {},
     "output_type": "execute_result"
    },
    {
     "data": {
      "image/png": "[encoded data removed]",
      "text/plain": [
       "<Figure size 640x480 with 1 Axes>"
      ]
     },
     "metadata": {},
     "output_type": "display_data"
    }
   ],
   "source": [
    "plt.hist(outliers, 50)"
   ]
  },
  {
   "cell_type": "code",
   "execution_count": 56,
   "id": "3ae03e6e",
   "metadata": {},
   "outputs": [
    {
     "data": {
      "text/plain": [
       "array([1.11022302e-16, 1.11022302e-16, 1.11022302e-16, 1.11022302e-16,\n",
       "       1.11022302e-16, 1.11022302e-16, 1.11022302e-16, 1.11022302e-16,\n",
       "       1.11022302e-16, 1.11022302e-16, 1.11022302e-16, 1.11022302e-16,\n",
       "       1.11022302e-16, 1.11022302e-16, 1.11022302e-16, 1.11022302e-16,\n",
       "       1.11022302e-16, 1.11022302e-16, 1.11022302e-16, 1.11022302e-16,\n",
       "       1.11022302e-16, 1.11022302e-16, 1.11022302e-16, 1.11022302e-16,\n",
       "       1.11022302e-16, 1.11022302e-16, 1.11022302e-16, 1.11022302e-16,\n",
       "       1.11022302e-16, 1.11022302e-16, 1.11022302e-16, 1.11022302e-16,\n",
       "       1.11022302e-16, 1.11022302e-16, 1.11022302e-16, 1.11022302e-16,\n",
       "       1.11022302e-16, 1.11022302e-16, 1.11022302e-16, 1.11022302e-16,\n",
       "       1.11022302e-16, 1.11022302e-16, 1.11022302e-16, 1.11022302e-16,\n",
       "       1.11022302e-16, 1.11022302e-16, 1.11022302e-16, 1.11022302e-16,\n",
       "       1.11022302e-16, 1.11022302e-16, 1.11022302e-16, 1.11022302e-16,\n",
       "       1.11022302e-16, 1.11022302e-16, 1.11022302e-16, 1.11022302e-16,\n",
       "       1.11022302e-16, 1.11022302e-16, 1.11022302e-16, 1.11022302e-16,\n",
       "       1.11022302e-16, 1.11022302e-16, 1.11022302e-16, 1.11022302e-16,\n",
       "       1.11022302e-16, 1.11022302e-16, 1.11022302e-16, 1.11022302e-16,\n",
       "       1.11022302e-16, 1.11022302e-16, 1.11022302e-16, 1.11022302e-16,\n",
       "       1.11022302e-16, 1.11022302e-16, 1.11022302e-16, 1.11022302e-16,\n",
       "       1.11022302e-16, 1.11022302e-16, 1.11022302e-16, 1.11022302e-16,\n",
       "       1.11022302e-16, 1.11022302e-16, 1.11022302e-16, 1.11022302e-16,\n",
       "       1.11022302e-16, 1.11022302e-16, 1.11022302e-16, 1.11022302e-16,\n",
       "       1.11022302e-16, 1.11022302e-16, 1.11022302e-16, 1.11022302e-16,\n",
       "       1.11022302e-16, 1.11022302e-16, 1.11022302e-16, 1.11022302e-16,\n",
       "       1.11022302e-16, 1.11022302e-16, 1.11022302e-16, 1.11022302e-16,\n",
       "       1.11022302e-16, 1.11022302e-16, 1.11022302e-16, 1.11022302e-16,\n",
       "       1.11022302e-16, 1.11022302e-16, 1.11022302e-16, 1.11022302e-16,\n",
       "       1.11022302e-16, 1.11022302e-16, 1.11022302e-16, 1.11022302e-16,\n",
       "       1.11022302e-16, 1.11022302e-16, 1.11022302e-16, 1.11022302e-16,\n",
       "       1.11022302e-16, 1.11022302e-16, 1.11022302e-16, 1.11022302e-16,\n",
       "       1.11022302e-16, 1.11022302e-16, 1.11022302e-16, 1.11022302e-16,\n",
       "       1.11022302e-16, 1.11022302e-16, 1.11022302e-16, 1.11022302e-16,\n",
       "       1.11022302e-16, 1.11022302e-16, 1.11022302e-16, 1.11022302e-16])"
      ]
     },
     "execution_count": 56,
     "metadata": {},
     "output_type": "execute_result"
    }
   ],
   "source": [
    "beryl_id = beryl_ids[40]\n",
    "ou.outlier(beryl_id, select_series(df_voltage, beryl_id=beryl_id).values)"
   ]
  },
  {
   "cell_type": "code",
   "execution_count": 31,
   "id": "979567de-9629-47d9-ab3d-3bf7d84ff984",
   "metadata": {},
   "outputs": [],
   "source": [
    "n = len(outliers[-1])"
   ]
  },
  {
   "cell_type": "code",
   "execution_count": 32,
   "id": "042fa38f-2371-4b1a-8685-6e634d03ac7c",
   "metadata": {},
   "outputs": [
    {
     "ename": "NameError",
     "evalue": "name 'i' is not defined",
     "output_type": "error",
     "traceback": [
      "\u001b[0;31m---------------------------------------------------------------------------\u001b[0m",
      "\u001b[0;31mNameError\u001b[0m                                 Traceback (most recent call last)",
      "Cell \u001b[0;32mIn[32], line 3\u001b[0m\n\u001b[1;32m      1\u001b[0m outliers_arr \u001b[38;5;241m=\u001b[39m np\u001b[38;5;241m.\u001b[39mzeros((\u001b[38;5;28mlen\u001b[39m(beryl_ids), n), dtype\u001b[38;5;241m=\u001b[39mnp\u001b[38;5;241m.\u001b[39mfloat32)\n\u001b[1;32m      2\u001b[0m \u001b[38;5;28;01mfor\u001b[39;00m outlier \u001b[38;5;129;01min\u001b[39;00m outliers:\n\u001b[0;32m----> 3\u001b[0m     outliers_arr[\u001b[43mi\u001b[49m, :\u001b[38;5;28mlen\u001b[39m(outlier)] \u001b[38;5;241m=\u001b[39m outlier\n",
      "\u001b[0;31mNameError\u001b[0m: name 'i' is not defined"
     ]
    }
   ],
   "source": [
    "outliers_arr = np.zeros((len(beryl_ids), n), dtype=np.float32)\n",
    "for outlier in outliers:\n",
    "    outliers_arr[i, :len(outlier)] = outlier"
   ]
  },
  {
   "cell_type": "code",
   "execution_count": null,
   "id": "ff996a23-9d29-4e19-b338-6ff947fb6b11",
   "metadata": {
    "editable": true,
    "slideshow": {
     "slide_type": ""
    },
    "tags": []
   },
   "outputs": [
    {
     "data": {
      "text/plain": [
       "<matplotlib.image.AxesImage at 0x7406facadcd0>"
      ]
     },
     "execution_count": 165,
     "metadata": {},
     "output_type": "execute_result"
    },
    {
     "data": {
      "image/png": "[encoded data removed]",
      "text/plain": [
       "<Figure size 1000x1000 with 1 Axes>"
      ]
     },
     "metadata": {},
     "output_type": "display_data"
    }
   ],
   "source": [
    "fig, ax = plt.subplots(figsize=(10, 10))\n",
    "plt.imshow(outliers_arr[:, :], vmin=0, vmax=1, interpolation='none', aspect='auto')"
   ]
  },
  {
   "cell_type": "code",
   "execution_count": null,
   "id": "a358db5c-954e-4ebc-b380-c92411a42f10",
   "metadata": {},
   "outputs": [],
   "source": []
  },
  {
   "cell_type": "code",
   "execution_count": null,
   "id": "a2b7fb9b-333f-41dc-9851-b2e84568da64",
   "metadata": {},
   "outputs": [],
   "source": []
  }
 ],
 "metadata": {
  "kernelspec": {
   "display_name": "venv",
   "language": "python",
   "name": "python3"
  },
  "language_info": {
   "codemirror_mode": {
    "name": "ipython",
    "version": 3
   },
   "file_extension": ".py",
   "mimetype": "text/x-python",
   "name": "python",
   "nbconvert_exporter": "python",
   "pygments_lexer": "ipython3",
   "version": "3.12.3"
  }
 },
 "nbformat": 4,
 "nbformat_minor": 5
}
